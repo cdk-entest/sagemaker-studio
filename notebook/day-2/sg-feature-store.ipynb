{
 "cells": [
  {
   "cell_type": "markdown",
   "id": "b701d5e4-18cd-4450-bd82-1b119a379abd",
   "metadata": {},
   "source": [
    "## SageMaker Feature Store \n",
    "haimtran 25/05/2023\n",
    "- [boto3 sagemaker feature store](https://boto3.amazonaws.com/v1/documentation/api/latest/reference/services/sagemaker-featurestore-runtime.html)\n",
    "- [Feature Store APIs](https://sagemaker.readthedocs.io/en/stable/api/prep_data/feature_store.html#feature-store)"
   ]
  },
  {
   "cell_type": "code",
   "execution_count": null,
   "id": "01d2c7f6-8b20-45fc-92a4-45c88296e566",
   "metadata": {
    "tags": []
   },
   "outputs": [],
   "source": [
    "# SageMaker Python SDK version 2.100.0 is required\n",
    "# boto3 version 1.24.20 is required\n",
    "import sagemaker\n",
    "import boto3\n",
    "import sys\n",
    "\n",
    "!pip install 'sagemaker>=2.100.0'\n",
    "!pip install 'boto3>=1.24.20'"
   ]
  },
  {
   "cell_type": "code",
   "execution_count": null,
   "id": "45eabaaf-8651-4c48-ad51-0b9831c05143",
   "metadata": {
    "tags": []
   },
   "outputs": [],
   "source": [
    "import pandas as pd\n",
    "import numpy as np\n",
    "import io\n",
    "from sagemaker.session import Session\n",
    "from sagemaker import get_execution_role\n",
    "\n",
    "prefix = \"sagemaker-featurestore-introduction\"\n",
    "role = get_execution_role()\n",
    "\n",
    "sagemaker_session = sagemaker.Session()\n",
    "region = sagemaker_session.boto_region_name\n",
    "s3_bucket_name = sagemaker_session.default_bucket()"
   ]
  },
  {
   "cell_type": "markdown",
   "id": "3d8e2976-a208-4c3d-bde9-7cfb89ce0002",
   "metadata": {},
   "source": [
    "## Read data from csv "
   ]
  },
  {
   "cell_type": "code",
   "execution_count": null,
   "id": "22a55057-1e26-4889-99dd-46631bf763fa",
   "metadata": {
    "tags": []
   },
   "outputs": [],
   "source": [
    "customer_data = pd.read_csv(\"feature-store-data/feature_store_introduction_customer.csv\")\n",
    "orders_data = pd.read_csv(\"feature-store-data/feature_store_introduction_orders.csv\")"
   ]
  },
  {
   "cell_type": "code",
   "execution_count": null,
   "id": "d703f4a7-f2ff-42b2-b92a-2b221103a83f",
   "metadata": {
    "tags": []
   },
   "outputs": [],
   "source": [
    "customer_data.head(10)"
   ]
  },
  {
   "cell_type": "code",
   "execution_count": null,
   "id": "4a831730-ab29-41bd-b146-82e04189156d",
   "metadata": {
    "tags": []
   },
   "outputs": [],
   "source": [
    "orders_data.head(10)"
   ]
  },
  {
   "cell_type": "markdown",
   "id": "edb3d524-d932-4cbb-8011-9cb1d373cb33",
   "metadata": {},
   "source": [
    "## Create a feature group "
   ]
  },
  {
   "cell_type": "code",
   "execution_count": null,
   "id": "070edc74-2077-4085-b831-7ae2182d1d98",
   "metadata": {
    "tags": []
   },
   "outputs": [],
   "source": [
    "from time import gmtime, strftime, sleep\n",
    "\n",
    "customers_feature_group_name = \"customers-feature-group-\" + strftime(\"%d-%H-%M-%S\", gmtime())\n",
    "orders_feature_group_name = \"orders-feature-group-\" + strftime(\"%d-%H-%M-%S\", gmtime())"
   ]
  },
  {
   "cell_type": "code",
   "execution_count": null,
   "id": "954059b1-2e1f-441d-93af-f0133d736ab8",
   "metadata": {
    "tags": []
   },
   "outputs": [],
   "source": [
    "customers_feature_group_name"
   ]
  },
  {
   "cell_type": "code",
   "execution_count": null,
   "id": "643abe76-21d0-4d2b-95fa-ca37a496f602",
   "metadata": {
    "tags": []
   },
   "outputs": [],
   "source": [
    "from sagemaker.feature_store.feature_group import FeatureGroup\n",
    "\n",
    "customers_feature_group = FeatureGroup(\n",
    "    name=customers_feature_group_name, \n",
    "    sagemaker_session=sagemaker_session\n",
    ")\n",
    "orders_feature_group = FeatureGroup(\n",
    "    name=orders_feature_group_name, \n",
    "    sagemaker_session=sagemaker_session\n",
    ")"
   ]
  },
  {
   "cell_type": "code",
   "execution_count": null,
   "id": "d79cb061-53d6-48c1-ad48-de99f18eb20b",
   "metadata": {
    "tags": []
   },
   "outputs": [],
   "source": [
    "import time\n",
    "\n",
    "current_time_sec = int(round(time.time()))\n",
    "\n",
    "record_identifier_feature_name = \"customer_id\""
   ]
  },
  {
   "cell_type": "code",
   "execution_count": null,
   "id": "f478a0c3-9417-4bfb-a375-277ab96f40ea",
   "metadata": {
    "tags": []
   },
   "outputs": [],
   "source": [
    "customer_data[\"EventTime\"] = pd.Series([current_time_sec] * len(customer_data), dtype=\"float64\")\n",
    "orders_data[\"EventTime\"] = pd.Series([current_time_sec] * len(orders_data), dtype=\"float64\")"
   ]
  },
  {
   "cell_type": "code",
   "execution_count": null,
   "id": "23d1707e-43ea-4401-a5b5-aff021b57b53",
   "metadata": {
    "tags": []
   },
   "outputs": [],
   "source": [
    "customer_data.head(10)"
   ]
  },
  {
   "cell_type": "code",
   "execution_count": null,
   "id": "6a6b77ee-041a-47f0-83eb-2adbd4d1af2d",
   "metadata": {
    "tags": []
   },
   "outputs": [],
   "source": [
    "customers_feature_group.load_feature_definitions(data_frame=customer_data)\n",
    "orders_feature_group.load_feature_definitions(data_frame=orders_data)"
   ]
  },
  {
   "cell_type": "code",
   "execution_count": null,
   "id": "3ac74657-5570-43f4-a8c2-9d3cc6c1d835",
   "metadata": {
    "tags": []
   },
   "outputs": [],
   "source": [
    "record_identifier_feature_name"
   ]
  },
  {
   "cell_type": "code",
   "execution_count": null,
   "id": "6740cb1a-5c4a-4d15-8c6e-565328a90651",
   "metadata": {
    "tags": []
   },
   "outputs": [],
   "source": [
    "customers_feature_group.create(\n",
    "    s3_uri=f\"s3://{s3_bucket_name}/{prefix}\",\n",
    "    record_identifier_name=record_identifier_feature_name,\n",
    "    event_time_feature_name=\"EventTime\",\n",
    "    role_arn=role,\n",
    "    enable_online_store=True,\n",
    ")\n",
    "\n",
    "orders_feature_group.create(\n",
    "    s3_uri=f\"s3://{s3_bucket_name}/{prefix}\",\n",
    "    record_identifier_name=record_identifier_feature_name,\n",
    "    event_time_feature_name=\"EventTime\",\n",
    "    role_arn=role,\n",
    "    enable_online_store=True,\n",
    ")"
   ]
  },
  {
   "cell_type": "code",
   "execution_count": null,
   "id": "ffbdb084-0572-4f0f-80c0-11f17da33949",
   "metadata": {
    "tags": []
   },
   "outputs": [],
   "source": [
    "customers_feature_group.describe()"
   ]
  },
  {
   "cell_type": "code",
   "execution_count": null,
   "id": "55fd2226-b3f7-4a6b-b81e-716c9a9decd2",
   "metadata": {
    "tags": []
   },
   "outputs": [],
   "source": [
    "orders_feature_group.describe()"
   ]
  },
  {
   "cell_type": "markdown",
   "id": "2e276360-8fea-4127-90ea-33ccbb5fcf31",
   "metadata": {},
   "source": [
    "## Check the feature group created "
   ]
  },
  {
   "cell_type": "code",
   "execution_count": null,
   "id": "5e223983-7400-4a92-a002-680f0c8d65fa",
   "metadata": {
    "tags": []
   },
   "outputs": [],
   "source": [
    "sagemaker_session.boto_session.client(\n",
    "    \"sagemaker\", region_name=region\n",
    ").list_feature_groups()  # We use the boto client to list FeatureGroups"
   ]
  },
  {
   "cell_type": "code",
   "execution_count": null,
   "id": "7d6ef110-1600-408d-b6b1-d59d6b986856",
   "metadata": {
    "tags": []
   },
   "outputs": [],
   "source": [
    "def check_feature_group_status(feature_group):\n",
    "    status = feature_group.describe().get(\"FeatureGroupStatus\")\n",
    "    while status == \"Creating\":\n",
    "        print(\"Waiting for Feature Group to be Created\")\n",
    "        time.sleep(5)\n",
    "        status = feature_group.describe().get(\"FeatureGroupStatus\")\n",
    "    print(f\"FeatureGroup {feature_group.name} successfully created.\")\n",
    "\n",
    "\n",
    "check_feature_group_status(customers_feature_group)\n",
    "check_feature_group_status(orders_feature_group)"
   ]
  },
  {
   "cell_type": "markdown",
   "id": "ca2c0189-c50c-4409-af56-9a08d1eaf952",
   "metadata": {},
   "source": [
    "## Add metadata to a feature "
   ]
  },
  {
   "cell_type": "code",
   "execution_count": null,
   "id": "be76064f-4660-49db-834f-cc9486507044",
   "metadata": {
    "tags": []
   },
   "outputs": [],
   "source": [
    "from sagemaker.feature_store.inputs import FeatureParameter\n",
    "\n",
    "customers_feature_group.update_feature_metadata(\n",
    "    feature_name=\"customer_id\",\n",
    "    description=\"The ID of a customer. It is also used in orders_feature_group.\",\n",
    "    parameter_additions=[FeatureParameter(\"idType\", \"primaryKey\")],\n",
    ")"
   ]
  },
  {
   "cell_type": "code",
   "execution_count": null,
   "id": "eee609ff-90a2-4419-a1fa-868976ac4843",
   "metadata": {
    "tags": []
   },
   "outputs": [],
   "source": [
    "customers_feature_group.describe_feature_metadata(feature_name=\"customer_id\")"
   ]
  },
  {
   "cell_type": "code",
   "execution_count": null,
   "id": "f2346971-04df-4153-8348-660c5cda0c33",
   "metadata": {
    "tags": []
   },
   "outputs": [],
   "source": [
    "sagemaker_session.boto_session.client(\"sagemaker\", region_name=region).search(\n",
    "    Resource=\"FeatureMetadata\",\n",
    "    SearchExpression={\n",
    "        \"Filters\": [\n",
    "            {\n",
    "                \"Name\": \"FeatureGroupName\",\n",
    "                \"Operator\": \"Contains\",\n",
    "                \"Value\": \"customers-feature-group-\",\n",
    "            },\n",
    "            {\"Name\": \"Parameters.idType\", \"Operator\": \"Equals\", \"Value\": \"primaryKey\"},\n",
    "        ]\n",
    "    },\n",
    ")  "
   ]
  },
  {
   "cell_type": "markdown",
   "id": "54e0f031-cfc1-4382-b244-c2cd0cbd70b1",
   "metadata": {},
   "source": [
    "## Ingest data into a feature group "
   ]
  },
  {
   "cell_type": "code",
   "execution_count": null,
   "id": "80092336-25b8-42f7-ac09-e0dfcc8d5a62",
   "metadata": {
    "tags": []
   },
   "outputs": [],
   "source": [
    "customers_feature_group.ingest(data_frame=customer_data, max_workers=3, wait=True)"
   ]
  },
  {
   "cell_type": "code",
   "execution_count": null,
   "id": "beb188e1-c5c3-4f31-9218-a386b07af8b6",
   "metadata": {
    "tags": []
   },
   "outputs": [],
   "source": [
    "orders_feature_group.ingest(data_frame=orders_data, max_workers=3, wait=True)"
   ]
  },
  {
   "cell_type": "markdown",
   "id": "bfb170da-721e-499e-9dac-d45c8c1512b8",
   "metadata": {},
   "source": [
    "Using an arbitrary customer record ID, 573291 we use get_record to check that the data has been ingested into the feature group."
   ]
  },
  {
   "cell_type": "code",
   "execution_count": null,
   "id": "6df69469-5fc3-472e-9b00-29169348570e",
   "metadata": {
    "tags": []
   },
   "outputs": [],
   "source": [
    "customer_id = 573291\n",
    "sample_record = sagemaker_session.boto_session.client(\n",
    "    \"sagemaker-featurestore-runtime\", region_name=region\n",
    ").get_record(\n",
    "    FeatureGroupName=customers_feature_group_name, \n",
    "    RecordIdentifierValueAsString=str(customer_id)\n",
    ")"
   ]
  },
  {
   "cell_type": "code",
   "execution_count": null,
   "id": "b5e989ad-da3d-4cb4-b77e-0ece46d35b2e",
   "metadata": {
    "tags": []
   },
   "outputs": [],
   "source": [
    "print(sample_record)"
   ]
  },
  {
   "cell_type": "code",
   "execution_count": null,
   "id": "9377ecb9-e06e-4b36-bcae-290925aeca8a",
   "metadata": {
    "tags": []
   },
   "outputs": [],
   "source": [
    "print(sample_record['Record'])"
   ]
  },
  {
   "cell_type": "markdown",
   "id": "9511fe13-65ac-4870-9750-7c63272525c6",
   "metadata": {},
   "source": [
    "We use batch_get_record to check that all data has been ingested into two feature groups by providing customer IDs."
   ]
  },
  {
   "cell_type": "code",
   "execution_count": null,
   "id": "04a873ac-1cee-4543-99a0-45ae5950b843",
   "metadata": {
    "tags": []
   },
   "outputs": [],
   "source": [
    "all_records = sagemaker_session.boto_session.client(\n",
    "    \"sagemaker-featurestore-runtime\", region_name=region\n",
    ").batch_get_record(\n",
    "    Identifiers=[\n",
    "        {\n",
    "            \"FeatureGroupName\": customers_feature_group_name,\n",
    "            \"RecordIdentifiersValueAsString\": [\"573291\", \"109382\", \"828400\", \"124013\"],\n",
    "        },\n",
    "        {\n",
    "            \"FeatureGroupName\": orders_feature_group_name,\n",
    "            \"RecordIdentifiersValueAsString\": [\"573291\", \"109382\", \"828400\", \"124013\"],\n",
    "        },\n",
    "    ]\n",
    ")"
   ]
  },
  {
   "cell_type": "code",
   "execution_count": null,
   "id": "70e1db3a-fd29-4a72-bb2e-16adaf2c3158",
   "metadata": {
    "tags": []
   },
   "outputs": [],
   "source": [
    "all_records"
   ]
  },
  {
   "cell_type": "markdown",
   "id": "73804a7d-84a6-40ce-aca6-08e6afbaa833",
   "metadata": {},
   "source": [
    "## Add features to a feature group "
   ]
  },
  {
   "cell_type": "code",
   "execution_count": null,
   "id": "cc0b8862-0e0a-4481-84fc-42da7a440f86",
   "metadata": {
    "tags": []
   },
   "outputs": [],
   "source": [
    "from sagemaker.feature_store.feature_definition import StringFeatureDefinition\n",
    "\n",
    "customers_feature_group.update(\n",
    "    feature_additions=[StringFeatureDefinition(\"email\"), StringFeatureDefinition(\"name\")]\n",
    ")"
   ]
  },
  {
   "cell_type": "markdown",
   "id": "3906e059-a931-40ff-a7ee-3097742bb7ce",
   "metadata": {},
   "source": [
    "Verify the FeatureGroup has been updated successfully or not."
   ]
  },
  {
   "cell_type": "code",
   "execution_count": null,
   "id": "8c300ab1-4dfc-4cff-b178-b5a7d1960415",
   "metadata": {
    "tags": []
   },
   "outputs": [],
   "source": [
    "def check_last_update_status(feature_group):\n",
    "    last_update_status = feature_group.describe().get(\"LastUpdateStatus\")[\"Status\"]\n",
    "    while last_update_status == \"InProgress\":\n",
    "        print(\"Waiting for FeatureGroup to be updated\")\n",
    "        time.sleep(5)\n",
    "        last_update_status = feature_group.describe().get(\"LastUpdateStatus\")\n",
    "    if last_update_status == \"Successful\":\n",
    "        print(f\"FeatureGroup {feature_group.name} successfully updated.\")\n",
    "    else:\n",
    "        print(\n",
    "            f\"FeatureGroup {feature_group.name} updated failed. The LastUpdateStatus is\"\n",
    "            + str(last_update_status)\n",
    "        )\n"
   ]
  },
  {
   "cell_type": "code",
   "execution_count": null,
   "id": "d9cbb3e5-0943-434d-acb3-aad3b871acba",
   "metadata": {
    "tags": []
   },
   "outputs": [],
   "source": [
    "check_last_update_status(customers_feature_group)"
   ]
  },
  {
   "cell_type": "markdown",
   "id": "3065ce30-9c4d-474e-a811-02f27a8e1971",
   "metadata": {},
   "source": [
    "Inspect the new dataset."
   ]
  },
  {
   "cell_type": "code",
   "execution_count": null,
   "id": "10ec00e0-6608-4f02-b95c-c8756f391667",
   "metadata": {
    "tags": []
   },
   "outputs": [],
   "source": [
    "customer_data_updated = pd.read_csv(\"feature-store-data/feature_store_introduction_customer_updated.csv\")"
   ]
  },
  {
   "cell_type": "code",
   "execution_count": null,
   "id": "85aea941-c6d2-44dc-a19d-1d8edf7a0448",
   "metadata": {
    "tags": []
   },
   "outputs": [],
   "source": [
    "customer_data_updated.head(10)"
   ]
  },
  {
   "cell_type": "markdown",
   "id": "0a304d67-e0b3-4e14-9d2c-a55e610ce91c",
   "metadata": {
    "tags": []
   },
   "source": [
    "Append EventTime feature to your data frame again"
   ]
  },
  {
   "cell_type": "code",
   "execution_count": null,
   "id": "b9983bf8-bf1c-42ec-a58d-e4ac5dbd8c23",
   "metadata": {
    "tags": []
   },
   "outputs": [],
   "source": [
    "customer_data_updated[\"EventTime\"] = pd.Series(\n",
    "    [current_time_sec] * len(customer_data), dtype=\"float64\"\n",
    ")"
   ]
  },
  {
   "cell_type": "markdown",
   "id": "bfbadcdd-35f8-46f1-a626-b5018ec752c7",
   "metadata": {},
   "source": [
    "Ingest the new dataset."
   ]
  },
  {
   "cell_type": "code",
   "execution_count": null,
   "id": "689e81e8-f4da-4b26-aa06-a01ea5659b3b",
   "metadata": {
    "tags": []
   },
   "outputs": [],
   "source": [
    "customers_feature_group.ingest(data_frame=customer_data_updated, max_workers=3, wait=True)"
   ]
  },
  {
   "cell_type": "markdown",
   "id": "f021c9ec-5a64-4bd6-8444-308392371dff",
   "metadata": {},
   "source": [
    "Use batch_get_record again to check that all updated data has been ingested into customers_feature_group by providing customer IDs."
   ]
  },
  {
   "cell_type": "code",
   "execution_count": null,
   "id": "63a68611-a097-470a-a340-56b6c7281cf3",
   "metadata": {
    "tags": []
   },
   "outputs": [],
   "source": [
    "updated_customers_records = sagemaker_session.boto_session.client(\n",
    "    \"sagemaker-featurestore-runtime\", region_name=region\n",
    ").batch_get_record(\n",
    "    Identifiers=[\n",
    "        {\n",
    "            \"FeatureGroupName\": customers_feature_group_name,\n",
    "            \"RecordIdentifiersValueAsString\": [\"573291\", \"109382\", \"828400\", \"124013\"],\n",
    "        }\n",
    "    ]\n",
    ")"
   ]
  },
  {
   "cell_type": "markdown",
   "id": "6ff9c617-20b6-4900-95e0-f2f10968297c",
   "metadata": {
    "tags": []
   },
   "source": [
    "## Feature Store API - List Feature Group "
   ]
  },
  {
   "cell_type": "code",
   "execution_count": null,
   "id": "4d743c91-f259-4466-b877-2607103cf54b",
   "metadata": {
    "tags": []
   },
   "outputs": [],
   "source": [
    "from sagemaker.feature_store.feature_store import FeatureStore\n",
    "from sagemaker.feature_store.inputs import Identifier\n",
    "from sagemaker.feature_store.feature_group import AthenaQuery"
   ]
  },
  {
   "cell_type": "code",
   "execution_count": null,
   "id": "6543c5d4-3f79-46a4-b888-8d2103702eef",
   "metadata": {
    "tags": []
   },
   "outputs": [],
   "source": [
    "feature_store = FeatureStore(\n",
    "    sagemaker_session=sagemaker_session\n",
    ")"
   ]
  },
  {
   "cell_type": "code",
   "execution_count": null,
   "id": "5db038ec-4a19-47ba-b529-81df53e54837",
   "metadata": {
    "tags": []
   },
   "outputs": [],
   "source": [
    "feature_store.list_feature_groups()"
   ]
  },
  {
   "cell_type": "code",
   "execution_count": null,
   "id": "983c9bb0-7117-406d-bb85-585d6e9883fc",
   "metadata": {
    "tags": []
   },
   "outputs": [],
   "source": [
    "feature_store.batch_get_record(\n",
    "    identifiers=[\n",
    "        Identifier(\n",
    "            feature_group_name=\"customers-feature-group-28-03-41-44\",\n",
    "            record_identifiers_value_as_string= [\"573291\", \"109382\", \"828400\", \"124013\"]\n",
    "        )\n",
    "    ]\n",
    ")"
   ]
  },
  {
   "cell_type": "code",
   "execution_count": null,
   "id": "d3433b30-c876-4a74-af58-0337fe1ee8e2",
   "metadata": {
    "tags": []
   },
   "outputs": [],
   "source": [
    "customer_query = AthenaQuery(\n",
    "    sagemaker_session=sagemaker_session, \n",
    "    catalog=\"AwsDataCatalog\", \n",
    "    database=\"sagemaker_featurestore\", \n",
    "    table_name=\"customers_feature_group_28_03_41_44_1685245305\"\n",
    ")"
   ]
  },
  {
   "cell_type": "code",
   "execution_count": null,
   "id": "935e2c8e-7fd5-4fd7-b19f-d4f7c5bbeb17",
   "metadata": {
    "tags": []
   },
   "outputs": [],
   "source": [
    "customer_query.run(\n",
    "    'select * from customers_feature_group_28_03_41_44_1685245305', \n",
    "    output_location=f\"s3://{s3_bucket_name}/notebook-athena-result/\"\n",
    ")"
   ]
  },
  {
   "cell_type": "code",
   "execution_count": null,
   "id": "204c1c68-4e92-4b74-b353-708ed7e56d09",
   "metadata": {
    "tags": []
   },
   "outputs": [],
   "source": [
    "customer_df = customer_query.as_dataframe()"
   ]
  },
  {
   "cell_type": "code",
   "execution_count": null,
   "id": "374119d3-4572-47b5-bc40-946a6f93a476",
   "metadata": {
    "tags": []
   },
   "outputs": [],
   "source": [
    "customer_df.head(10)"
   ]
  },
  {
   "cell_type": "markdown",
   "id": "8b4e6883-880a-43b7-ac7e-4e66e08039c6",
   "metadata": {},
   "source": [
    "## Feature Store API - Dataset Builder - Read into DataFrame "
   ]
  },
  {
   "cell_type": "code",
   "execution_count": null,
   "id": "c15f175e-6c5c-41e3-b289-e4877d121e82",
   "metadata": {
    "tags": []
   },
   "outputs": [],
   "source": [
    "from sagemaker.feature_store.feature_group import FeatureGroup"
   ]
  },
  {
   "cell_type": "code",
   "execution_count": null,
   "id": "207256cd-db3f-473f-9090-271d210ac9fd",
   "metadata": {
    "tags": []
   },
   "outputs": [],
   "source": [
    "customer_feature_group = FeatureGroup(\n",
    "    sagemaker_session=sagemaker_session,\n",
    "    name=\"orders-feature-group-28-03-41-44\"\n",
    ")"
   ]
  },
  {
   "cell_type": "code",
   "execution_count": null,
   "id": "6fb53c41-2f23-40e0-ab0d-bdc09620b215",
   "metadata": {
    "tags": []
   },
   "outputs": [],
   "source": [
    "customer_feature_group.get_record(\n",
    "    record_identifier_value_as_string=\"573291\"\n",
    ")"
   ]
  },
  {
   "cell_type": "markdown",
   "id": "e5e1cdf0-a14c-43e4-9d75-272a0636d8f9",
   "metadata": {},
   "source": [
    "## Feature Store API - Athena Query and Join Table "
   ]
  },
  {
   "cell_type": "code",
   "execution_count": null,
   "id": "97bd39f6-a9f6-44a1-9621-b317fabde4b0",
   "metadata": {
    "tags": []
   },
   "outputs": [],
   "source": [
    "customer_query = customer_feature_group.athena_query()"
   ]
  },
  {
   "cell_type": "code",
   "execution_count": null,
   "id": "baf6bbdc-5d94-455c-a142-b3837c6abcf2",
   "metadata": {
    "tags": []
   },
   "outputs": [],
   "source": [
    "customer_table = customer_query.table_name"
   ]
  },
  {
   "cell_type": "code",
   "execution_count": null,
   "id": "17ac02de-3319-44d6-bfe9-2291c4c544b0",
   "metadata": {
    "tags": []
   },
   "outputs": [],
   "source": [
    "query_string = ('SELECT * FROM \"' + customer_table + '\"')"
   ]
  },
  {
   "cell_type": "code",
   "execution_count": null,
   "id": "bfda20bb-8d67-49be-83aa-6a7c9baa6135",
   "metadata": {
    "tags": []
   },
   "outputs": [],
   "source": [
    "query_string"
   ]
  },
  {
   "cell_type": "code",
   "execution_count": null,
   "id": "8d00e693-bb52-4686-824d-aedf8809794b",
   "metadata": {
    "tags": []
   },
   "outputs": [],
   "source": [
    "customer_query.run(\n",
    "    query_string=query_string,\n",
    "    output_location=f\"s3://{s3_bucket_name}/notebook-athena-result/\"\n",
    ")"
   ]
  },
  {
   "cell_type": "code",
   "execution_count": null,
   "id": "84ec9cad-8ccf-45e6-955c-6d06cbfd20f1",
   "metadata": {
    "tags": []
   },
   "outputs": [],
   "source": [
    "dataset = customer_query.as_dataframe()"
   ]
  },
  {
   "cell_type": "code",
   "execution_count": null,
   "id": "5f5bb96c-abbe-4760-8fd6-4a366b87bf6b",
   "metadata": {
    "tags": []
   },
   "outputs": [],
   "source": [
    "dataset.head(10)"
   ]
  },
  {
   "cell_type": "markdown",
   "id": "8752b6aa-114e-42e6-8635-daea2a827420",
   "metadata": {},
   "source": [
    "## Clean Up \n",
    "Please check in Glue Catalog "
   ]
  },
  {
   "cell_type": "code",
   "execution_count": null,
   "id": "844b11ed-0443-4195-8ef0-2f3346362f60",
   "metadata": {
    "tags": []
   },
   "outputs": [],
   "source": [
    "# customers_feature_group.delete()\n",
    "# orders_feature_group.delete()"
   ]
  },
  {
   "cell_type": "code",
   "execution_count": null,
   "id": "6e53ad2d-b423-4e05-b485-e376882f2287",
   "metadata": {},
   "outputs": [],
   "source": []
  }
 ],
 "metadata": {
  "availableInstances": [
   {
    "_defaultOrder": 0,
    "_isFastLaunch": true,
    "category": "General purpose",
    "gpuNum": 0,
    "hideHardwareSpecs": false,
    "memoryGiB": 4,
    "name": "ml.t3.medium",
    "vcpuNum": 2
   },
   {
    "_defaultOrder": 1,
    "_isFastLaunch": false,
    "category": "General purpose",
    "gpuNum": 0,
    "hideHardwareSpecs": false,
    "memoryGiB": 8,
    "name": "ml.t3.large",
    "vcpuNum": 2
   },
   {
    "_defaultOrder": 2,
    "_isFastLaunch": false,
    "category": "General purpose",
    "gpuNum": 0,
    "hideHardwareSpecs": false,
    "memoryGiB": 16,
    "name": "ml.t3.xlarge",
    "vcpuNum": 4
   },
   {
    "_defaultOrder": 3,
    "_isFastLaunch": false,
    "category": "General purpose",
    "gpuNum": 0,
    "hideHardwareSpecs": false,
    "memoryGiB": 32,
    "name": "ml.t3.2xlarge",
    "vcpuNum": 8
   },
   {
    "_defaultOrder": 4,
    "_isFastLaunch": true,
    "category": "General purpose",
    "gpuNum": 0,
    "hideHardwareSpecs": false,
    "memoryGiB": 8,
    "name": "ml.m5.large",
    "vcpuNum": 2
   },
   {
    "_defaultOrder": 5,
    "_isFastLaunch": false,
    "category": "General purpose",
    "gpuNum": 0,
    "hideHardwareSpecs": false,
    "memoryGiB": 16,
    "name": "ml.m5.xlarge",
    "vcpuNum": 4
   },
   {
    "_defaultOrder": 6,
    "_isFastLaunch": false,
    "category": "General purpose",
    "gpuNum": 0,
    "hideHardwareSpecs": false,
    "memoryGiB": 32,
    "name": "ml.m5.2xlarge",
    "vcpuNum": 8
   },
   {
    "_defaultOrder": 7,
    "_isFastLaunch": false,
    "category": "General purpose",
    "gpuNum": 0,
    "hideHardwareSpecs": false,
    "memoryGiB": 64,
    "name": "ml.m5.4xlarge",
    "vcpuNum": 16
   },
   {
    "_defaultOrder": 8,
    "_isFastLaunch": false,
    "category": "General purpose",
    "gpuNum": 0,
    "hideHardwareSpecs": false,
    "memoryGiB": 128,
    "name": "ml.m5.8xlarge",
    "vcpuNum": 32
   },
   {
    "_defaultOrder": 9,
    "_isFastLaunch": false,
    "category": "General purpose",
    "gpuNum": 0,
    "hideHardwareSpecs": false,
    "memoryGiB": 192,
    "name": "ml.m5.12xlarge",
    "vcpuNum": 48
   },
   {
    "_defaultOrder": 10,
    "_isFastLaunch": false,
    "category": "General purpose",
    "gpuNum": 0,
    "hideHardwareSpecs": false,
    "memoryGiB": 256,
    "name": "ml.m5.16xlarge",
    "vcpuNum": 64
   },
   {
    "_defaultOrder": 11,
    "_isFastLaunch": false,
    "category": "General purpose",
    "gpuNum": 0,
    "hideHardwareSpecs": false,
    "memoryGiB": 384,
    "name": "ml.m5.24xlarge",
    "vcpuNum": 96
   },
   {
    "_defaultOrder": 12,
    "_isFastLaunch": false,
    "category": "General purpose",
    "gpuNum": 0,
    "hideHardwareSpecs": false,
    "memoryGiB": 8,
    "name": "ml.m5d.large",
    "vcpuNum": 2
   },
   {
    "_defaultOrder": 13,
    "_isFastLaunch": false,
    "category": "General purpose",
    "gpuNum": 0,
    "hideHardwareSpecs": false,
    "memoryGiB": 16,
    "name": "ml.m5d.xlarge",
    "vcpuNum": 4
   },
   {
    "_defaultOrder": 14,
    "_isFastLaunch": false,
    "category": "General purpose",
    "gpuNum": 0,
    "hideHardwareSpecs": false,
    "memoryGiB": 32,
    "name": "ml.m5d.2xlarge",
    "vcpuNum": 8
   },
   {
    "_defaultOrder": 15,
    "_isFastLaunch": false,
    "category": "General purpose",
    "gpuNum": 0,
    "hideHardwareSpecs": false,
    "memoryGiB": 64,
    "name": "ml.m5d.4xlarge",
    "vcpuNum": 16
   },
   {
    "_defaultOrder": 16,
    "_isFastLaunch": false,
    "category": "General purpose",
    "gpuNum": 0,
    "hideHardwareSpecs": false,
    "memoryGiB": 128,
    "name": "ml.m5d.8xlarge",
    "vcpuNum": 32
   },
   {
    "_defaultOrder": 17,
    "_isFastLaunch": false,
    "category": "General purpose",
    "gpuNum": 0,
    "hideHardwareSpecs": false,
    "memoryGiB": 192,
    "name": "ml.m5d.12xlarge",
    "vcpuNum": 48
   },
   {
    "_defaultOrder": 18,
    "_isFastLaunch": false,
    "category": "General purpose",
    "gpuNum": 0,
    "hideHardwareSpecs": false,
    "memoryGiB": 256,
    "name": "ml.m5d.16xlarge",
    "vcpuNum": 64
   },
   {
    "_defaultOrder": 19,
    "_isFastLaunch": false,
    "category": "General purpose",
    "gpuNum": 0,
    "hideHardwareSpecs": false,
    "memoryGiB": 384,
    "name": "ml.m5d.24xlarge",
    "vcpuNum": 96
   },
   {
    "_defaultOrder": 20,
    "_isFastLaunch": false,
    "category": "General purpose",
    "gpuNum": 0,
    "hideHardwareSpecs": true,
    "memoryGiB": 0,
    "name": "ml.geospatial.interactive",
    "supportedImageNames": [
     "sagemaker-geospatial-v1-0"
    ],
    "vcpuNum": 0
   },
   {
    "_defaultOrder": 21,
    "_isFastLaunch": true,
    "category": "Compute optimized",
    "gpuNum": 0,
    "hideHardwareSpecs": false,
    "memoryGiB": 4,
    "name": "ml.c5.large",
    "vcpuNum": 2
   },
   {
    "_defaultOrder": 22,
    "_isFastLaunch": false,
    "category": "Compute optimized",
    "gpuNum": 0,
    "hideHardwareSpecs": false,
    "memoryGiB": 8,
    "name": "ml.c5.xlarge",
    "vcpuNum": 4
   },
   {
    "_defaultOrder": 23,
    "_isFastLaunch": false,
    "category": "Compute optimized",
    "gpuNum": 0,
    "hideHardwareSpecs": false,
    "memoryGiB": 16,
    "name": "ml.c5.2xlarge",
    "vcpuNum": 8
   },
   {
    "_defaultOrder": 24,
    "_isFastLaunch": false,
    "category": "Compute optimized",
    "gpuNum": 0,
    "hideHardwareSpecs": false,
    "memoryGiB": 32,
    "name": "ml.c5.4xlarge",
    "vcpuNum": 16
   },
   {
    "_defaultOrder": 25,
    "_isFastLaunch": false,
    "category": "Compute optimized",
    "gpuNum": 0,
    "hideHardwareSpecs": false,
    "memoryGiB": 72,
    "name": "ml.c5.9xlarge",
    "vcpuNum": 36
   },
   {
    "_defaultOrder": 26,
    "_isFastLaunch": false,
    "category": "Compute optimized",
    "gpuNum": 0,
    "hideHardwareSpecs": false,
    "memoryGiB": 96,
    "name": "ml.c5.12xlarge",
    "vcpuNum": 48
   },
   {
    "_defaultOrder": 27,
    "_isFastLaunch": false,
    "category": "Compute optimized",
    "gpuNum": 0,
    "hideHardwareSpecs": false,
    "memoryGiB": 144,
    "name": "ml.c5.18xlarge",
    "vcpuNum": 72
   },
   {
    "_defaultOrder": 28,
    "_isFastLaunch": false,
    "category": "Compute optimized",
    "gpuNum": 0,
    "hideHardwareSpecs": false,
    "memoryGiB": 192,
    "name": "ml.c5.24xlarge",
    "vcpuNum": 96
   },
   {
    "_defaultOrder": 29,
    "_isFastLaunch": true,
    "category": "Accelerated computing",
    "gpuNum": 1,
    "hideHardwareSpecs": false,
    "memoryGiB": 16,
    "name": "ml.g4dn.xlarge",
    "vcpuNum": 4
   },
   {
    "_defaultOrder": 30,
    "_isFastLaunch": false,
    "category": "Accelerated computing",
    "gpuNum": 1,
    "hideHardwareSpecs": false,
    "memoryGiB": 32,
    "name": "ml.g4dn.2xlarge",
    "vcpuNum": 8
   },
   {
    "_defaultOrder": 31,
    "_isFastLaunch": false,
    "category": "Accelerated computing",
    "gpuNum": 1,
    "hideHardwareSpecs": false,
    "memoryGiB": 64,
    "name": "ml.g4dn.4xlarge",
    "vcpuNum": 16
   },
   {
    "_defaultOrder": 32,
    "_isFastLaunch": false,
    "category": "Accelerated computing",
    "gpuNum": 1,
    "hideHardwareSpecs": false,
    "memoryGiB": 128,
    "name": "ml.g4dn.8xlarge",
    "vcpuNum": 32
   },
   {
    "_defaultOrder": 33,
    "_isFastLaunch": false,
    "category": "Accelerated computing",
    "gpuNum": 4,
    "hideHardwareSpecs": false,
    "memoryGiB": 192,
    "name": "ml.g4dn.12xlarge",
    "vcpuNum": 48
   },
   {
    "_defaultOrder": 34,
    "_isFastLaunch": false,
    "category": "Accelerated computing",
    "gpuNum": 1,
    "hideHardwareSpecs": false,
    "memoryGiB": 256,
    "name": "ml.g4dn.16xlarge",
    "vcpuNum": 64
   },
   {
    "_defaultOrder": 35,
    "_isFastLaunch": false,
    "category": "Accelerated computing",
    "gpuNum": 1,
    "hideHardwareSpecs": false,
    "memoryGiB": 61,
    "name": "ml.p3.2xlarge",
    "vcpuNum": 8
   },
   {
    "_defaultOrder": 36,
    "_isFastLaunch": false,
    "category": "Accelerated computing",
    "gpuNum": 4,
    "hideHardwareSpecs": false,
    "memoryGiB": 244,
    "name": "ml.p3.8xlarge",
    "vcpuNum": 32
   },
   {
    "_defaultOrder": 37,
    "_isFastLaunch": false,
    "category": "Accelerated computing",
    "gpuNum": 8,
    "hideHardwareSpecs": false,
    "memoryGiB": 488,
    "name": "ml.p3.16xlarge",
    "vcpuNum": 64
   },
   {
    "_defaultOrder": 38,
    "_isFastLaunch": false,
    "category": "Accelerated computing",
    "gpuNum": 8,
    "hideHardwareSpecs": false,
    "memoryGiB": 768,
    "name": "ml.p3dn.24xlarge",
    "vcpuNum": 96
   },
   {
    "_defaultOrder": 39,
    "_isFastLaunch": false,
    "category": "Memory Optimized",
    "gpuNum": 0,
    "hideHardwareSpecs": false,
    "memoryGiB": 16,
    "name": "ml.r5.large",
    "vcpuNum": 2
   },
   {
    "_defaultOrder": 40,
    "_isFastLaunch": false,
    "category": "Memory Optimized",
    "gpuNum": 0,
    "hideHardwareSpecs": false,
    "memoryGiB": 32,
    "name": "ml.r5.xlarge",
    "vcpuNum": 4
   },
   {
    "_defaultOrder": 41,
    "_isFastLaunch": false,
    "category": "Memory Optimized",
    "gpuNum": 0,
    "hideHardwareSpecs": false,
    "memoryGiB": 64,
    "name": "ml.r5.2xlarge",
    "vcpuNum": 8
   },
   {
    "_defaultOrder": 42,
    "_isFastLaunch": false,
    "category": "Memory Optimized",
    "gpuNum": 0,
    "hideHardwareSpecs": false,
    "memoryGiB": 128,
    "name": "ml.r5.4xlarge",
    "vcpuNum": 16
   },
   {
    "_defaultOrder": 43,
    "_isFastLaunch": false,
    "category": "Memory Optimized",
    "gpuNum": 0,
    "hideHardwareSpecs": false,
    "memoryGiB": 256,
    "name": "ml.r5.8xlarge",
    "vcpuNum": 32
   },
   {
    "_defaultOrder": 44,
    "_isFastLaunch": false,
    "category": "Memory Optimized",
    "gpuNum": 0,
    "hideHardwareSpecs": false,
    "memoryGiB": 384,
    "name": "ml.r5.12xlarge",
    "vcpuNum": 48
   },
   {
    "_defaultOrder": 45,
    "_isFastLaunch": false,
    "category": "Memory Optimized",
    "gpuNum": 0,
    "hideHardwareSpecs": false,
    "memoryGiB": 512,
    "name": "ml.r5.16xlarge",
    "vcpuNum": 64
   },
   {
    "_defaultOrder": 46,
    "_isFastLaunch": false,
    "category": "Memory Optimized",
    "gpuNum": 0,
    "hideHardwareSpecs": false,
    "memoryGiB": 768,
    "name": "ml.r5.24xlarge",
    "vcpuNum": 96
   },
   {
    "_defaultOrder": 47,
    "_isFastLaunch": false,
    "category": "Accelerated computing",
    "gpuNum": 1,
    "hideHardwareSpecs": false,
    "memoryGiB": 16,
    "name": "ml.g5.xlarge",
    "vcpuNum": 4
   },
   {
    "_defaultOrder": 48,
    "_isFastLaunch": false,
    "category": "Accelerated computing",
    "gpuNum": 1,
    "hideHardwareSpecs": false,
    "memoryGiB": 32,
    "name": "ml.g5.2xlarge",
    "vcpuNum": 8
   },
   {
    "_defaultOrder": 49,
    "_isFastLaunch": false,
    "category": "Accelerated computing",
    "gpuNum": 1,
    "hideHardwareSpecs": false,
    "memoryGiB": 64,
    "name": "ml.g5.4xlarge",
    "vcpuNum": 16
   },
   {
    "_defaultOrder": 50,
    "_isFastLaunch": false,
    "category": "Accelerated computing",
    "gpuNum": 1,
    "hideHardwareSpecs": false,
    "memoryGiB": 128,
    "name": "ml.g5.8xlarge",
    "vcpuNum": 32
   },
   {
    "_defaultOrder": 51,
    "_isFastLaunch": false,
    "category": "Accelerated computing",
    "gpuNum": 1,
    "hideHardwareSpecs": false,
    "memoryGiB": 256,
    "name": "ml.g5.16xlarge",
    "vcpuNum": 64
   },
   {
    "_defaultOrder": 52,
    "_isFastLaunch": false,
    "category": "Accelerated computing",
    "gpuNum": 4,
    "hideHardwareSpecs": false,
    "memoryGiB": 192,
    "name": "ml.g5.12xlarge",
    "vcpuNum": 48
   },
   {
    "_defaultOrder": 53,
    "_isFastLaunch": false,
    "category": "Accelerated computing",
    "gpuNum": 4,
    "hideHardwareSpecs": false,
    "memoryGiB": 384,
    "name": "ml.g5.24xlarge",
    "vcpuNum": 96
   },
   {
    "_defaultOrder": 54,
    "_isFastLaunch": false,
    "category": "Accelerated computing",
    "gpuNum": 8,
    "hideHardwareSpecs": false,
    "memoryGiB": 768,
    "name": "ml.g5.48xlarge",
    "vcpuNum": 192
   },
   {
    "_defaultOrder": 55,
    "_isFastLaunch": false,
    "category": "Accelerated computing",
    "gpuNum": 8,
    "hideHardwareSpecs": false,
    "memoryGiB": 1152,
    "name": "ml.p4d.24xlarge",
    "vcpuNum": 96
   },
   {
    "_defaultOrder": 56,
    "_isFastLaunch": false,
    "category": "Accelerated computing",
    "gpuNum": 8,
    "hideHardwareSpecs": false,
    "memoryGiB": 1152,
    "name": "ml.p4de.24xlarge",
    "vcpuNum": 96
   }
  ],
  "instance_type": "ml.t3.medium",
  "kernelspec": {
   "display_name": "Python 3 (Data Science)",
   "language": "python",
   "name": "python3__SAGEMAKER_INTERNAL__arn:aws:sagemaker:us-east-1:081325390199:image/datascience-1.0"
  },
  "language_info": {
   "codemirror_mode": {
    "name": "ipython",
    "version": 3
   },
   "file_extension": ".py",
   "mimetype": "text/x-python",
   "name": "python",
   "nbconvert_exporter": "python",
   "pygments_lexer": "ipython3",
   "version": "3.7.10"
  }
 },
 "nbformat": 4,
 "nbformat_minor": 5
}
