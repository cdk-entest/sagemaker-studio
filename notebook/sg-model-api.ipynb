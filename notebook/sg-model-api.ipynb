{
 "cells": [
  {
   "attachments": {},
   "cell_type": "markdown",
   "metadata": {},
   "source": [
    "## SageMaker Model and Model Registry \n",
    "- haimtran 01/06/2023\n",
    "- [Model Artifact](https://docs.aws.amazon.com/sagemaker/latest/dg/sagemaker-marketplace-develop.html)\n",
    "- [SageMaker SDK Model](https://sagemaker.readthedocs.io/en/stable/api/inference/model.html)\n",
    "- [Retrieve Pre-Built SageMaker Docker Image](https://sagemaker.readthedocs.io/en/stable/api/utility/image_uris.html)\n",
    "- [SageMaker Docker Registry Paths](https://docs.aws.amazon.com/sagemaker/latest/dg-ecr-paths/ecr-ap-southeast-1.html#pca-ap-southeast-1.title)\n",
    "- [SageMaker Create Endpoint Config](https://docs.aws.amazon.com/sagemaker/latest/dg/realtime-endpoints-deployment.html)\n",
    "\n",
    "A deployable model consits of at least \n",
    "- Image URI \n",
    "- ModelDataURL after training \n",
    "- Role "
   ]
  },
  {
   "cell_type": "code",
   "execution_count": null,
   "metadata": {},
   "outputs": [],
   "source": [
    "# !python -m pip install sagemaker\n",
    "# !python -m pip install boto3"
   ]
  },
  {
   "cell_type": "code",
   "execution_count": 1,
   "metadata": {},
   "outputs": [],
   "source": [
    "import sagemaker\n",
    "import boto3"
   ]
  },
  {
   "cell_type": "code",
   "execution_count": 2,
   "metadata": {},
   "outputs": [],
   "source": [
    "session = sagemaker.Session()\n",
    "role = sagemaker.get_execution_role()\n",
    "bucket = session.default_bucket()"
   ]
  },
  {
   "cell_type": "code",
   "execution_count": 3,
   "metadata": {},
   "outputs": [
    {
     "data": {
      "text/plain": [
       "'ap-southeast-1'"
      ]
     },
     "execution_count": 3,
     "metadata": {},
     "output_type": "execute_result"
    }
   ],
   "source": [
    "session._region_name"
   ]
  },
  {
   "attachments": {},
   "cell_type": "markdown",
   "metadata": {},
   "source": [
    "## Boto3 Check and Existing Model "
   ]
  },
  {
   "cell_type": "code",
   "execution_count": 4,
   "metadata": {},
   "outputs": [],
   "source": [
    "sagemaker_client = boto3.client(\"sagemaker\")"
   ]
  },
  {
   "cell_type": "code",
   "execution_count": 5,
   "metadata": {},
   "outputs": [
    {
     "data": {
      "text/plain": [
       "{'Models': [{'ModelName': 'PCACreatedFromNoteBookModel',\n",
       "   'ModelArn': 'arn:aws:sagemaker:ap-southeast-1:394599967678:model/pcacreatedfromnotebookmodel',\n",
       "   'CreationTime': datetime.datetime(2023, 6, 1, 5, 26, 13, 396000, tzinfo=tzlocal())},\n",
       "  {'ModelName': 'PCAModel1aac2da2-df8c-4da8-8097-5cb336dae838',\n",
       "   'ModelArn': 'arn:aws:sagemaker:ap-southeast-1:394599967678:model/pcamodel1aac2da2-df8c-4da8-8097-5cb336dae838',\n",
       "   'CreationTime': datetime.datetime(2023, 5, 31, 12, 40, 21, 985000, tzinfo=tzlocal())},\n",
       "  {'ModelName': 'PCAModel23b02247-812d-4bdc-a980-0e265a880cd5',\n",
       "   'ModelArn': 'arn:aws:sagemaker:ap-southeast-1:394599967678:model/pcamodel23b02247-812d-4bdc-a980-0e265a880cd5',\n",
       "   'CreationTime': datetime.datetime(2023, 5, 31, 11, 48, 19, 141000, tzinfo=tzlocal())},\n",
       "  {'ModelName': 'pca-2023-05-31-08-13-08-496',\n",
       "   'ModelArn': 'arn:aws:sagemaker:ap-southeast-1:394599967678:model/pca-2023-05-31-08-13-08-496',\n",
       "   'CreationTime': datetime.datetime(2023, 5, 31, 8, 13, 8, 990000, tzinfo=tzlocal())}],\n",
       " 'ResponseMetadata': {'RequestId': 'ea789314-66e7-427d-be6e-8d9b57dc0e66',\n",
       "  'HTTPStatusCode': 200,\n",
       "  'HTTPHeaders': {'x-amzn-requestid': 'ea789314-66e7-427d-be6e-8d9b57dc0e66',\n",
       "   'content-type': 'application/x-amz-json-1.1',\n",
       "   'content-length': '755',\n",
       "   'date': 'Thu, 01 Jun 2023 07:51:52 GMT'},\n",
       "  'RetryAttempts': 0}}"
      ]
     },
     "execution_count": 5,
     "metadata": {},
     "output_type": "execute_result"
    }
   ],
   "source": [
    "sagemaker_client.list_models()"
   ]
  },
  {
   "cell_type": "code",
   "execution_count": 6,
   "metadata": {},
   "outputs": [
    {
     "data": {
      "text/plain": [
       "{'ModelName': 'PCAModel1aac2da2-df8c-4da8-8097-5cb336dae838',\n",
       " 'PrimaryContainer': {'Image': '475088953585.dkr.ecr.ap-southeast-1.amazonaws.com/pca:1',\n",
       "  'Mode': 'SingleModel',\n",
       "  'ModelDataUrl': 's3://sagemaker-ap-southeast-1-394599967678/TrainingJobName27a61f71-876d-4d88-a39f-487cd1d1ebd4/output/model.tar.gz',\n",
       "  'Environment': {}},\n",
       " 'ExecutionRoleArn': 'arn:aws:iam::394599967678:role/RoleForDataScientistUserProfile',\n",
       " 'CreationTime': datetime.datetime(2023, 5, 31, 12, 40, 21, 985000, tzinfo=tzlocal()),\n",
       " 'ModelArn': 'arn:aws:sagemaker:ap-southeast-1:394599967678:model/pcamodel1aac2da2-df8c-4da8-8097-5cb336dae838',\n",
       " 'EnableNetworkIsolation': False,\n",
       " 'DeploymentRecommendation': {'RecommendationStatus': 'COMPLETED',\n",
       "  'RealTimeInferenceRecommendations': [{'RecommendationId': 'pcamodel1aac2da2-df8c-4da8-8097-5cb336dae838/RL8o0xf2',\n",
       "    'InstanceType': 'ml.c6i.xlarge',\n",
       "    'Environment': {}},\n",
       "   {'RecommendationId': 'pcamodel1aac2da2-df8c-4da8-8097-5cb336dae838/EcvIWVng',\n",
       "    'InstanceType': 'ml.c6i.large',\n",
       "    'Environment': {}},\n",
       "   {'RecommendationId': 'pcamodel1aac2da2-df8c-4da8-8097-5cb336dae838/CsI99C8R',\n",
       "    'InstanceType': 'ml.g4dn.2xlarge',\n",
       "    'Environment': {}}]},\n",
       " 'ResponseMetadata': {'RequestId': 'a709f3be-a6f4-4965-ab0d-2970308d5135',\n",
       "  'HTTPStatusCode': 200,\n",
       "  'HTTPHeaders': {'x-amzn-requestid': 'a709f3be-a6f4-4965-ab0d-2970308d5135',\n",
       "   'content-type': 'application/x-amz-json-1.1',\n",
       "   'content-length': '1051',\n",
       "   'date': 'Thu, 01 Jun 2023 07:51:53 GMT'},\n",
       "  'RetryAttempts': 0}}"
      ]
     },
     "execution_count": 6,
     "metadata": {},
     "output_type": "execute_result"
    }
   ],
   "source": [
    "sagemaker_client.describe_model(\n",
    "    ModelName=\"PCAModel1aac2da2-df8c-4da8-8097-5cb336dae838\"\n",
    ")"
   ]
  },
  {
   "attachments": {},
   "cell_type": "markdown",
   "metadata": {},
   "source": [
    "## SageMaker SDK: Create a Model "
   ]
  },
  {
   "cell_type": "code",
   "execution_count": 7,
   "metadata": {},
   "outputs": [],
   "source": [
    "from sagemaker.model import Model\n",
    "from sagemaker.image_uris import retrieve"
   ]
  },
  {
   "cell_type": "code",
   "execution_count": 8,
   "metadata": {},
   "outputs": [
    {
     "name": "stderr",
     "output_type": "stream",
     "text": [
      "Defaulting to the only supported framework/algorithm version: 1. Ignoring framework/algorithm version: 0.23-1.\n"
     ]
    }
   ],
   "source": [
    "image_uri = retrieve(\n",
    "    framework=\"pca\",\n",
    "    region=session._region_name, \n",
    "    instance_type=\"ml.m4.xlarge\",\n",
    "    version=\"0.23-1\"\n",
    ")"
   ]
  },
  {
   "cell_type": "code",
   "execution_count": 9,
   "metadata": {},
   "outputs": [
    {
     "name": "stdout",
     "output_type": "stream",
     "text": [
      "475088953585.dkr.ecr.ap-southeast-1.amazonaws.com/pca:1\n"
     ]
    }
   ],
   "source": [
    "print(image_uri)"
   ]
  },
  {
   "cell_type": "code",
   "execution_count": 10,
   "metadata": {},
   "outputs": [],
   "source": [
    "model = Model(\n",
    "    image_uri=image_uri,\n",
    "    model_data=\"s3://sagemaker-ap-southeast-1-394599967678/TrainingJobName27a61f71-876d-4d88-a39f-487cd1d1ebd4/output/model.tar.gz\",\n",
    "    role=role,\n",
    "    name=\"PCACreatedFromNoteBookModel\"\n",
    ")"
   ]
  },
  {
   "cell_type": "code",
   "execution_count": 12,
   "metadata": {},
   "outputs": [
    {
     "name": "stderr",
     "output_type": "stream",
     "text": [
      "Using already existing model: PCACreatedFromNoteBookModel\n"
     ]
    }
   ],
   "source": [
    "model.create(instance_type=\"ml.m4.xlarge\")"
   ]
  },
  {
   "cell_type": "code",
   "execution_count": 13,
   "metadata": {},
   "outputs": [],
   "source": [
    "model.delete_model()"
   ]
  },
  {
   "attachments": {},
   "cell_type": "markdown",
   "metadata": {},
   "source": [
    "## Deploy a Model as a Endpoint "
   ]
  },
  {
   "attachments": {},
   "cell_type": "markdown",
   "metadata": {},
   "source": [
    "[deploy a model](https://sagemaker.readthedocs.io/en/stable/api/inference/model.html), and it would take about 5 minutes bofore the endpoint ready "
   ]
  },
  {
   "cell_type": "code",
   "execution_count": null,
   "metadata": {},
   "outputs": [],
   "source": [
    "model.deploy(\n",
    "    initial_instance_count=1, \n",
    "    instance_type=\"ml.m4.xlarge\"\n",
    ")"
   ]
  },
  {
   "attachments": {},
   "cell_type": "markdown",
   "metadata": {},
   "source": [
    "describe the deployed endpoint "
   ]
  },
  {
   "cell_type": "code",
   "execution_count": null,
   "metadata": {},
   "outputs": [],
   "source": [
    "sagemaker_client.list_endpoints()"
   ]
  },
  {
   "cell_type": "code",
   "execution_count": null,
   "metadata": {},
   "outputs": [],
   "source": [
    "sagemaker_client.describe_endpoint(\n",
    "    EndpointName=\"PCACreatedFromNoteBookModel-2023-06-01-05-26-19-579\"\n",
    ")"
   ]
  },
  {
   "attachments": {},
   "cell_type": "markdown",
   "metadata": {},
   "source": []
  }
 ],
 "metadata": {
  "kernelspec": {
   "display_name": ".env",
   "language": "python",
   "name": "python3"
  },
  "language_info": {
   "codemirror_mode": {
    "name": "ipython",
    "version": 3
   },
   "file_extension": ".py",
   "mimetype": "text/x-python",
   "name": "python",
   "nbconvert_exporter": "python",
   "pygments_lexer": "ipython3",
   "version": "3.8.10"
  },
  "orig_nbformat": 4
 },
 "nbformat": 4,
 "nbformat_minor": 2
}
