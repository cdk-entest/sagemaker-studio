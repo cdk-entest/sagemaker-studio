{
 "cells": [
  {
   "attachments": {},
   "cell_type": "markdown",
   "metadata": {},
   "source": [
    "## SageMaker Model Registry \n",
    "haimtran 01/06/2023"
   ]
  },
  {
   "cell_type": "code",
   "execution_count": null,
   "metadata": {},
   "outputs": [],
   "source": [
    "# !python -m pip install sagemaker \n",
    "# !python -m pip install boto3"
   ]
  },
  {
   "cell_type": "code",
   "execution_count": null,
   "metadata": {},
   "outputs": [],
   "source": [
    "import json\n",
    "import sagemaker \n",
    "import boto3"
   ]
  },
  {
   "cell_type": "code",
   "execution_count": null,
   "metadata": {},
   "outputs": [],
   "source": [
    "role = sagemaker.get_execution_role()\n",
    "session = sagemaker.Session()\n",
    "bucket = session.default_bucket()"
   ]
  },
  {
   "cell_type": "code",
   "execution_count": null,
   "metadata": {},
   "outputs": [],
   "source": [
    "sagemaker_client = boto3.client(\"sagemaker\")"
   ]
  },
  {
   "attachments": {},
   "cell_type": "markdown",
   "metadata": {},
   "source": [
    "## Create a Model "
   ]
  },
  {
   "cell_type": "code",
   "execution_count": null,
   "metadata": {},
   "outputs": [],
   "source": [
    "from sagemaker.model import Model\n",
    "from sagemaker.model_metrics import ModelMetrics\n",
    "from sagemaker.image_uris import retrieve"
   ]
  },
  {
   "cell_type": "code",
   "execution_count": null,
   "metadata": {},
   "outputs": [],
   "source": [
    "image_uri = retrieve(\n",
    "    framework=\"pca\",\n",
    "    region=session._region_name, \n",
    "    instance_type=\"ml.m4.xlarge\",\n",
    "    version=\"0.23-1\"\n",
    ")"
   ]
  },
  {
   "cell_type": "code",
   "execution_count": null,
   "metadata": {},
   "outputs": [],
   "source": [
    "image_uri"
   ]
  },
  {
   "cell_type": "code",
   "execution_count": null,
   "metadata": {},
   "outputs": [],
   "source": [
    "model = Model(\n",
    "    image_uri=image_uri,\n",
    "    model_data=\"s3://sagemaker-ap-southeast-1-394599967678/TrainingJobName27a61f71-876d-4d88-a39f-487cd1d1ebd4/output/model.tar.gz\",\n",
    "    role=role,\n",
    ")"
   ]
  },
  {
   "cell_type": "code",
   "execution_count": null,
   "metadata": {},
   "outputs": [],
   "source": [
    "# model.create(instance_type=\"ml.m4.xlarge\")"
   ]
  },
  {
   "attachments": {},
   "cell_type": "markdown",
   "metadata": {},
   "source": [
    "## Create a Model Package Group "
   ]
  },
  {
   "cell_type": "code",
   "execution_count": null,
   "metadata": {},
   "outputs": [],
   "source": [
    "model_package_group_input_dict = {\n",
    "    \"ModelPackageGroupName\": \"ecg-model-group\", \n",
    "    \"ModelPackageGroupDescription\": \"develop model for ECG\"\n",
    "}"
   ]
  },
  {
   "cell_type": "code",
   "execution_count": null,
   "metadata": {},
   "outputs": [],
   "source": [
    "# response = sagemaker_client.create_model_package_group(\n",
    "#  **model_package_group_input_dict \n",
    "# )"
   ]
  },
  {
   "cell_type": "code",
   "execution_count": 128,
   "metadata": {},
   "outputs": [],
   "source": [
    "# print(json.dumps(response, indent=4))"
   ]
  },
  {
   "attachments": {},
   "cell_type": "markdown",
   "metadata": {},
   "source": [
    "## Register a Model to a Model Group "
   ]
  },
  {
   "attachments": {},
   "cell_type": "markdown",
   "metadata": {},
   "source": [
    "option 1. mode.create(), run model.register()"
   ]
  },
  {
   "cell_type": "code",
   "execution_count": null,
   "metadata": {},
   "outputs": [],
   "source": [
    "# model.register(\n",
    "#     model_package_group_name=\"ecg-model-group\",\n",
    "#     content_types=[\"text/csv\"], \n",
    "#     inference_instances=[\"ml.m5.xlarge\"], \n",
    "#     transform_instances=[\"ml.m5.xlarge\"], \n",
    "#     response_types=[\"text/csv\"], \n",
    "#     customer_metadata_properties={\"ModelType\": \"PCA\"}, \n",
    "#     # model_metrics=None,\n",
    "#     approval_status=\"PendingManualApproval\"\n",
    "# )"
   ]
  },
  {
   "attachments": {},
   "cell_type": "markdown",
   "metadata": {},
   "source": [
    "option 2. using boto3 sagemaker client "
   ]
  },
  {
   "cell_type": "code",
   "execution_count": null,
   "metadata": {},
   "outputs": [],
   "source": [
    "# create_model_package_input_dict = {\n",
    "#     \"ModelPackageGroupName\": \"ecg-model-group\",\n",
    "#     \"ModelPackageDescription\": \"\", \n",
    "#     \"ModelApprovalStatus\" : \"PendingManualApproval\",\n",
    "#     \"InferenceSpecification\": {\n",
    "#         \"Containers\": [\n",
    "#             {\n",
    "#                 \"Image\": image_uri,\n",
    "#                 \"ModelDataUrl\": \"s3://sagemaker-ap-southeast-1-394599967678/TrainingJobName27a61f71-876d-4d88-a39f-487cd1d1ebd4/output/model.tar.gz\"\n",
    "#             }\n",
    "#         ],\n",
    "#       \"SupportedContentTypes\": [ \"text/csv\" ],\n",
    "#       \"SupportedResponseMIMETypes\": [ \"text/csv\" ],\n",
    "#     }\n",
    "# }"
   ]
  },
  {
   "cell_type": "code",
   "execution_count": null,
   "metadata": {},
   "outputs": [],
   "source": [
    "# response = sagemaker_client.create_model_package(\n",
    "#     **create_model_package_input_dict\n",
    "# )\n",
    "# print(json.dumps(response, indent=4))"
   ]
  },
  {
   "attachments": {},
   "cell_type": "markdown",
   "metadata": {},
   "source": [
    "## Describe Model Package "
   ]
  },
  {
   "cell_type": "code",
   "execution_count": 113,
   "metadata": {},
   "outputs": [
    {
     "data": {
      "text/plain": [
       "{'ModelPackageSummaryList': [{'ModelPackageGroupName': 'ecg-model-group',\n",
       "   'ModelPackageVersion': 2,\n",
       "   'ModelPackageArn': 'arn:aws:sagemaker:ap-southeast-1:394599967678:model-package/ecg-model-group/2',\n",
       "   'CreationTime': datetime.datetime(2023, 6, 1, 7, 53, 38, 912000, tzinfo=tzlocal()),\n",
       "   'ModelPackageStatus': 'Completed',\n",
       "   'ModelApprovalStatus': 'PendingManualApproval'},\n",
       "  {'ModelPackageGroupName': 'ecg-model-group',\n",
       "   'ModelPackageVersion': 1,\n",
       "   'ModelPackageArn': 'arn:aws:sagemaker:ap-southeast-1:394599967678:model-package/ecg-model-group/1',\n",
       "   'CreationTime': datetime.datetime(2023, 6, 1, 7, 38, 14, 418000, tzinfo=tzlocal()),\n",
       "   'ModelPackageStatus': 'Completed',\n",
       "   'ModelApprovalStatus': 'PendingManualApproval'}],\n",
       " 'ResponseMetadata': {'RequestId': '830a2484-3228-49f4-8507-5fd181af7dec',\n",
       "  'HTTPStatusCode': 200,\n",
       "  'HTTPHeaders': {'x-amzn-requestid': '830a2484-3228-49f4-8507-5fd181af7dec',\n",
       "   'content-type': 'application/x-amz-json-1.1',\n",
       "   'content-length': '583',\n",
       "   'date': 'Thu, 01 Jun 2023 08:26:47 GMT'},\n",
       "  'RetryAttempts': 0}}"
      ]
     },
     "execution_count": 113,
     "metadata": {},
     "output_type": "execute_result"
    }
   ],
   "source": [
    "sagemaker_client.list_model_packages(\n",
    "    ModelPackageGroupName=\"ecg-model-group\"\n",
    ")"
   ]
  },
  {
   "cell_type": "code",
   "execution_count": 114,
   "metadata": {},
   "outputs": [
    {
     "data": {
      "text/plain": [
       "{'ModelPackageGroupName': 'ecg-model-group',\n",
       " 'ModelPackageVersion': 1,\n",
       " 'ModelPackageArn': 'arn:aws:sagemaker:ap-southeast-1:394599967678:model-package/ecg-model-group/1',\n",
       " 'CreationTime': datetime.datetime(2023, 6, 1, 7, 38, 14, 418000, tzinfo=tzlocal()),\n",
       " 'InferenceSpecification': {'Containers': [{'Image': '475088953585.dkr.ecr.ap-southeast-1.amazonaws.com/pca:1',\n",
       "    'ImageDigest': 'sha256:e7f2ee425a9860522b3ffac9992a7292a688ee9fd10c0c645d5b71a13913e789',\n",
       "    'ModelDataUrl': 's3://sagemaker-ap-southeast-1-394599967678/TrainingJobName27a61f71-876d-4d88-a39f-487cd1d1ebd4/output/model.tar.gz'}],\n",
       "  'SupportedContentTypes': ['text/csv'],\n",
       "  'SupportedResponseMIMETypes': ['text/csv']},\n",
       " 'ModelPackageStatus': 'Completed',\n",
       " 'ModelPackageStatusDetails': {'ValidationStatuses': [],\n",
       "  'ImageScanStatuses': []},\n",
       " 'CertifyForMarketplace': False,\n",
       " 'ModelApprovalStatus': 'PendingManualApproval',\n",
       " 'CreatedBy': {'IamIdentity': {'Arn': 'arn:aws:sts::394599967678:assumed-role/TeamRole/MasterKey',\n",
       "   'PrincipalId': 'AROAVXX75VO7J74L4YCF4:MasterKey'}},\n",
       " 'ResponseMetadata': {'RequestId': 'dd63d07d-995d-4dd9-9d25-33542da9ffcc',\n",
       "  'HTTPStatusCode': 200,\n",
       "  'HTTPHeaders': {'x-amzn-requestid': 'dd63d07d-995d-4dd9-9d25-33542da9ffcc',\n",
       "   'content-type': 'application/x-amz-json-1.1',\n",
       "   'content-length': '936',\n",
       "   'date': 'Thu, 01 Jun 2023 08:26:50 GMT'},\n",
       "  'RetryAttempts': 0}}"
      ]
     },
     "execution_count": 114,
     "metadata": {},
     "output_type": "execute_result"
    }
   ],
   "source": [
    "sagemaker_client.describe_model_package(\n",
    "    ModelPackageName=\"arn:aws:sagemaker:ap-southeast-1:394599967678:model-package/ecg-model-group/1\"\n",
    ")"
   ]
  },
  {
   "attachments": {},
   "cell_type": "markdown",
   "metadata": {},
   "source": [
    "## Deploy a Model from Model Registry "
   ]
  },
  {
   "attachments": {},
   "cell_type": "markdown",
   "metadata": {},
   "source": [
    "option 1. after model.create() run model.deploy()"
   ]
  },
  {
   "attachments": {},
   "cell_type": "markdown",
   "metadata": {},
   "source": [
    "option 2. using boto3 sagemaker client "
   ]
  },
  {
   "cell_type": "code",
   "execution_count": 122,
   "metadata": {},
   "outputs": [],
   "source": [
    "endpoint_config_name = \"PCAEndpointConfigurationBoto3\"\n",
    "endpoint_name = \"PCAEndpointFromModelRegistryBoto3\"\n",
    "model_name = \"PCAModelFromModelRegistryBoto3\"\n",
    "model_package_arn = \"arn:aws:sagemaker:ap-southeast-1:394599967678:model-package/ecg-model-group/1\""
   ]
  },
  {
   "attachments": {},
   "cell_type": "markdown",
   "metadata": {},
   "source": [
    "can only create a model for an approved state "
   ]
  },
  {
   "cell_type": "code",
   "execution_count": 117,
   "metadata": {},
   "outputs": [
    {
     "data": {
      "text/plain": [
       "{'ModelPackageArn': 'arn:aws:sagemaker:ap-southeast-1:394599967678:model-package/ecg-model-group/1',\n",
       " 'ResponseMetadata': {'RequestId': 'b943cea7-55a7-4d21-a05f-255bd0f5ec04',\n",
       "  'HTTPStatusCode': 200,\n",
       "  'HTTPHeaders': {'x-amzn-requestid': 'b943cea7-55a7-4d21-a05f-255bd0f5ec04',\n",
       "   'content-type': 'application/x-amz-json-1.1',\n",
       "   'content-length': '99',\n",
       "   'date': 'Thu, 01 Jun 2023 08:29:37 GMT'},\n",
       "  'RetryAttempts': 0}}"
      ]
     },
     "execution_count": 117,
     "metadata": {},
     "output_type": "execute_result"
    }
   ],
   "source": [
    "sagemaker_client.update_model_package(\n",
    "    ModelPackageArn=model_package_arn,\n",
    "    ModelApprovalStatus=\"Approved\"\n",
    ")"
   ]
  },
  {
   "cell_type": "code",
   "execution_count": 118,
   "metadata": {},
   "outputs": [],
   "source": [
    "response = sagemaker_client.create_model(\n",
    "    ModelName=model_name,\n",
    "    ExecutionRoleArn=role,\n",
    "    Containers=[\n",
    "        {\n",
    "            \"ModelPackageName\": model_package_arn\n",
    "        }\n",
    "    ]\n",
    ")"
   ]
  },
  {
   "cell_type": "code",
   "execution_count": 123,
   "metadata": {},
   "outputs": [],
   "source": [
    "endpoint_config = sagemaker_client.create_endpoint_config(\n",
    "    EndpointConfigName=endpoint_config_name,\n",
    "    ProductionVariants=[\n",
    "        {\n",
    "            \"InitialInstanceCount\": 1,\n",
    "            \"InstanceType\": \"ml.m4.xlarge\",\n",
    "            \"ModelName\": model_name,\n",
    "            \"VariantName\": \"AllTraffic\",\n",
    "        }\n",
    "    ]\n",
    ")"
   ]
  },
  {
   "cell_type": "code",
   "execution_count": 124,
   "metadata": {},
   "outputs": [],
   "source": [
    "response = sagemaker_client.create_endpoint(\n",
    "    EndpointName=endpoint_name, \n",
    "    EndpointConfigName=endpoint_config_name\n",
    ")"
   ]
  },
  {
   "attachments": {},
   "cell_type": "markdown",
   "metadata": {},
   "source": [
    "## Test the Endpoint "
   ]
  },
  {
   "cell_type": "code",
   "execution_count": 125,
   "metadata": {},
   "outputs": [
    {
     "name": "stdout",
     "output_type": "stream",
     "text": [
      "{\n",
      "    \"EndpointName\": \"PCAEndpointFromModelRegistryBoto3\",\n",
      "    \"EndpointArn\": \"arn:aws:sagemaker:ap-southeast-1:394599967678:endpoint/pcaendpointfrommodelregistryboto3\",\n",
      "    \"EndpointConfigName\": \"PCAEndpointConfigurationBoto3\",\n",
      "    \"ProductionVariants\": [\n",
      "        {\n",
      "            \"VariantName\": \"AllTraffic\",\n",
      "            \"DeployedImages\": [\n",
      "                {\n",
      "                    \"SpecifiedImage\": \"475088953585.dkr.ecr.ap-southeast-1.amazonaws.com/pca@sha256:e7f2ee425a9860522b3ffac9992a7292a688ee9fd10c0c645d5b71a13913e789\",\n",
      "                    \"ResolvedImage\": \"475088953585.dkr.ecr.ap-southeast-1.amazonaws.com/pca@sha256:e7f2ee425a9860522b3ffac9992a7292a688ee9fd10c0c645d5b71a13913e789\",\n",
      "                    \"ResolutionTime\": \"2023-06-01 08:31:18.110000+00:00\"\n",
      "                }\n",
      "            ],\n",
      "            \"CurrentWeight\": 1.0,\n",
      "            \"DesiredWeight\": 1.0,\n",
      "            \"CurrentInstanceCount\": 1,\n",
      "            \"DesiredInstanceCount\": 1\n",
      "        }\n",
      "    ],\n",
      "    \"EndpointStatus\": \"InService\",\n",
      "    \"CreationTime\": \"2023-06-01 08:31:16.788000+00:00\",\n",
      "    \"LastModifiedTime\": \"2023-06-01 08:34:44.366000+00:00\",\n",
      "    \"ResponseMetadata\": {\n",
      "        \"RequestId\": \"f8ddedef-386f-44c7-9538-efa6509bae38\",\n",
      "        \"HTTPStatusCode\": 200,\n",
      "        \"HTTPHeaders\": {\n",
      "            \"x-amzn-requestid\": \"f8ddedef-386f-44c7-9538-efa6509bae38\",\n",
      "            \"content-type\": \"application/x-amz-json-1.1\",\n",
      "            \"content-length\": \"792\",\n",
      "            \"date\": \"Thu, 01 Jun 2023 08:35:13 GMT\"\n",
      "        },\n",
      "        \"RetryAttempts\": 0\n",
      "    }\n",
      "}\n"
     ]
    }
   ],
   "source": [
    "response = sagemaker_client.describe_endpoint(\n",
    "    EndpointName=endpoint_name\n",
    ")\n",
    "print(json.dumps(response, indent=4, default=str))"
   ]
  },
  {
   "cell_type": "code",
   "execution_count": 126,
   "metadata": {},
   "outputs": [],
   "source": [
    "runtime = boto3.client(\"sagemaker-runtime\")"
   ]
  },
  {
   "cell_type": "code",
   "execution_count": 127,
   "metadata": {},
   "outputs": [
    {
     "name": "stdout",
     "output_type": "stream",
     "text": [
      "{\n",
      "    \"projections\": [\n",
      "        {\n",
      "            \"projection\": [\n",
      "                1.1226699352264404,\n",
      "                1.392833948135376,\n",
      "                -4.927513122558594\n",
      "            ]\n",
      "        },\n",
      "        {\n",
      "            \"projection\": [\n",
      "                1.1226699352264404,\n",
      "                1.392833948135376,\n",
      "                -4.927513122558594\n",
      "            ]\n",
      "        },\n",
      "        {\n",
      "            \"projection\": [\n",
      "                1.1157770156860352,\n",
      "                1.390754222869873,\n",
      "                -6.926059246063232\n",
      "            ]\n",
      "        }\n",
      "    ]\n",
      "}\n"
     ]
    }
   ],
   "source": [
    "response = runtime.invoke_endpoint(\n",
    "    EndpointName=endpoint_name,\n",
    "     Body=\"1,2,3,4\\n1,2,3,4\\n2,3,4,5\",\n",
    "    ContentType=\"text/csv\"\n",
    ")\n",
    "result = json.loads(response['Body'].read())\n",
    "print(json.dumps(result, indent=4, default=str))"
   ]
  },
  {
   "cell_type": "code",
   "execution_count": null,
   "metadata": {},
   "outputs": [],
   "source": []
  }
 ],
 "metadata": {
  "kernelspec": {
   "display_name": ".env",
   "language": "python",
   "name": "python3"
  },
  "language_info": {
   "codemirror_mode": {
    "name": "ipython",
    "version": 3
   },
   "file_extension": ".py",
   "mimetype": "text/x-python",
   "name": "python",
   "nbconvert_exporter": "python",
   "pygments_lexer": "ipython3",
   "version": "3.8.10"
  },
  "orig_nbformat": 4
 },
 "nbformat": 4,
 "nbformat_minor": 2
}
