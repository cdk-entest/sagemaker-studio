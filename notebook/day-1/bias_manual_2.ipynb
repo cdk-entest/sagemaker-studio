{
 "cells": [
  {
   "cell_type": "markdown",
   "id": "d3c74901-4247-408b-87ac-802d3fc68fd8",
   "metadata": {},
   "source": [
    "## Explain How SageMaker Calculate Bias Metric Pre-Training \n",
    "haimtran June 09 2023\n",
    "\n",
    "- Hand calculate bias metrics: CI, DPL, KL, JS\n",
    "- Compare with Wrangler Bias Report"
   ]
  },
  {
   "cell_type": "code",
   "execution_count": 137,
   "id": "09894f2e-f442-4b9c-af2f-d1877d5e79b2",
   "metadata": {
    "tags": []
   },
   "outputs": [],
   "source": [
    "import os\n",
    "\n",
    "import boto3\n",
    "import matplotlib.pyplot as plt\n",
    "import numpy as np\n",
    "import pandas as pd\n",
    "import sagemaker\n",
    "from IPython.display import Markdown, display"
   ]
  },
  {
   "cell_type": "code",
   "execution_count": 138,
   "id": "88194798-c794-41f1-9e54-122a9ca864f1",
   "metadata": {
    "tags": []
   },
   "outputs": [],
   "source": [
    "import decimal\n",
    "from decimal import Decimal"
   ]
  },
  {
   "cell_type": "code",
   "execution_count": 139,
   "id": "91c61198-f461-46cd-b3f7-a5f46b0bfb5c",
   "metadata": {
    "tags": []
   },
   "outputs": [],
   "source": [
    "decimal.setcontext(decimal.Context(prec=16))"
   ]
  },
  {
   "cell_type": "markdown",
   "id": "0ba0aa48-c7d1-4ebe-9bd0-0cd049c1086a",
   "metadata": {},
   "source": [
    "## SageMaker Session"
   ]
  },
  {
   "cell_type": "code",
   "execution_count": 140,
   "id": "e00a21c0-7837-4f14-ad27-f7d05f80c731",
   "metadata": {
    "tags": []
   },
   "outputs": [],
   "source": [
    "role = sagemaker.get_execution_role()"
   ]
  },
  {
   "cell_type": "code",
   "execution_count": 141,
   "id": "079c046b-dbbb-41fb-bdc3-eef8860b449b",
   "metadata": {
    "tags": []
   },
   "outputs": [],
   "source": [
    "session = sagemaker.session.Session()"
   ]
  },
  {
   "cell_type": "code",
   "execution_count": 142,
   "id": "33f2cf26-3712-4f03-892d-af123846419f",
   "metadata": {
    "tags": []
   },
   "outputs": [],
   "source": [
    "bucket = session.default_bucket()"
   ]
  },
  {
   "cell_type": "code",
   "execution_count": 143,
   "id": "6befe484-fa7b-4504-96d6-6bb6f082b16c",
   "metadata": {
    "tags": []
   },
   "outputs": [],
   "source": [
    "region = session.boto_region_name"
   ]
  },
  {
   "cell_type": "markdown",
   "id": "d1fc7bd4-5d0d-4f50-b0c8-2d6ae149a681",
   "metadata": {},
   "source": [
    "## Parameters for Bias Analysis "
   ]
  },
  {
   "cell_type": "code",
   "execution_count": 144,
   "id": "9529932d-9696-4556-956f-b46277256fa6",
   "metadata": {
    "tags": []
   },
   "outputs": [],
   "source": [
    "feature_name = \"marital\"\n",
    "facet = \"married\"\n",
    "target_name = \"y\"\n",
    "label = \"yes\""
   ]
  },
  {
   "cell_type": "markdown",
   "id": "10da7c38-53ea-4f52-9f93-d94b0e119cff",
   "metadata": {},
   "source": [
    "## Upload Bank Data to S3 for Wrangler "
   ]
  },
  {
   "cell_type": "code",
   "execution_count": 145,
   "id": "3f5e9124-4b1f-4682-b02e-39e0e7bef999",
   "metadata": {
    "tags": []
   },
   "outputs": [],
   "source": [
    "local_file_path = \"./../../data/bank-additional/bank-additional-full.csv\""
   ]
  },
  {
   "cell_type": "code",
   "execution_count": 146,
   "id": "ed461b7f-e897-4cf6-b6f4-682ab700dfd8",
   "metadata": {
    "tags": []
   },
   "outputs": [],
   "source": [
    "s3_client = boto3.client(\"s3\")"
   ]
  },
  {
   "cell_type": "code",
   "execution_count": 147,
   "id": "b367d6b2-c899-4baf-a585-9a259aac43d2",
   "metadata": {
    "tags": []
   },
   "outputs": [],
   "source": [
    "s3_client.upload_file(\n",
    "    local_file_path,\n",
    "    bucket,\n",
    "    \"bank/bank-additional-full.csv\",\n",
    ")"
   ]
  },
  {
   "cell_type": "markdown",
   "id": "039c7d56-3ae8-4068-b90b-666c50a7811c",
   "metadata": {},
   "source": [
    "## Download Adult DataSet from S3 "
   ]
  },
  {
   "cell_type": "code",
   "execution_count": 148,
   "id": "d33bd694-dcb5-45e0-92a9-86c5d5f1913a",
   "metadata": {
    "tags": []
   },
   "outputs": [
    {
     "name": "stdout",
     "output_type": "stream",
     "text": [
      "adult.data already on disk.\n",
      "adult.test already on disk.\n"
     ]
    }
   ],
   "source": [
    "from sagemaker.s3 import S3Downloader\n",
    "\n",
    "adult_columns = [\n",
    "    \"Age\",\n",
    "    \"Workclass\",\n",
    "    \"fnlwgt\",\n",
    "    \"Education\",\n",
    "    \"Education-Num\",\n",
    "    \"Marital Status\",\n",
    "    \"Occupation\",\n",
    "    \"Relationship\",\n",
    "    \"Ethnic group\",\n",
    "    \"Sex\",\n",
    "    \"Capital Gain\",\n",
    "    \"Capital Loss\",\n",
    "    \"Hours per week\",\n",
    "    \"Country\",\n",
    "    \"Target\",\n",
    "]\n",
    "if not os.path.isfile(\"adult.data\"):\n",
    "    S3Downloader.download(\n",
    "        s3_uri=\"s3://{}/{}\".format(\n",
    "            f\"sagemaker-example-files-prod-{region}\",\n",
    "            \"datasets/tabular/uci_adult/adult.data\",\n",
    "        ),\n",
    "        local_path=\"./\",\n",
    "        sagemaker_session=session,\n",
    "    )\n",
    "    print(\"adult.data saved!\")\n",
    "else:\n",
    "    print(\"adult.data already on disk.\")\n",
    "\n",
    "if not os.path.isfile(\"adult.test\"):\n",
    "    S3Downloader.download(\n",
    "        s3_uri=\"s3://{}/{}\".format(\n",
    "            f\"sagemaker-example-files-prod-{region}\",\n",
    "            \"datasets/tabular/uci_adult/adult.test\",\n",
    "        ),\n",
    "        local_path=\"./\",\n",
    "        sagemaker_session=session,\n",
    "    )\n",
    "    print(\"adult.test saved!\")\n",
    "else:\n",
    "    print(\"adult.test already on disk.\")"
   ]
  },
  {
   "cell_type": "markdown",
   "id": "b88c8f1f-3608-4fe7-94f3-a23abc90a782",
   "metadata": {},
   "source": [
    "## Parameters for Bias Analysis "
   ]
  },
  {
   "cell_type": "code",
   "execution_count": 149,
   "id": "9bd5b163-b8c5-4fa8-b526-dad8c2552a57",
   "metadata": {
    "tags": []
   },
   "outputs": [],
   "source": [
    "data_path = \"./adult.data\""
   ]
  },
  {
   "cell_type": "code",
   "execution_count": 150,
   "id": "2ec914a8-3a61-40e5-a6b8-a0c880416236",
   "metadata": {
    "tags": []
   },
   "outputs": [],
   "source": [
    "feature_name = \"Sex\"\n",
    "facet = 0\n",
    "target_name = \"Target\"\n",
    "label = 1"
   ]
  },
  {
   "cell_type": "markdown",
   "id": "777cc8bb-c156-4c26-be70-55864eb05ebe",
   "metadata": {},
   "source": [
    "## Load Data "
   ]
  },
  {
   "cell_type": "code",
   "execution_count": 151,
   "id": "cb4109a8-092a-4404-847c-5e348ca1a021",
   "metadata": {
    "tags": []
   },
   "outputs": [],
   "source": [
    "training_data = pd.read_csv(\n",
    "    \"adult.data\", names=adult_columns, sep=r\"\\s*,\\s*\", engine=\"python\", na_values=\"?\"\n",
    ").dropna()\n",
    "\n",
    "testing_data = pd.read_csv(\n",
    "    \"adult.test\",\n",
    "    names=adult_columns,\n",
    "    sep=r\"\\s*,\\s*\",\n",
    "    engine=\"python\",\n",
    "    na_values=\"?\",\n",
    "    skiprows=1,\n",
    ").dropna()\n",
    "\n",
    "training_data.head()\n",
    "df = training_data"
   ]
  },
  {
   "cell_type": "code",
   "execution_count": 152,
   "id": "367e469f-b02f-4e30-aebb-5b87fdb1a315",
   "metadata": {
    "scrolled": true,
    "tags": []
   },
   "outputs": [
    {
     "data": {
      "text/html": [
       "<div>\n",
       "<style scoped>\n",
       "    .dataframe tbody tr th:only-of-type {\n",
       "        vertical-align: middle;\n",
       "    }\n",
       "\n",
       "    .dataframe tbody tr th {\n",
       "        vertical-align: top;\n",
       "    }\n",
       "\n",
       "    .dataframe thead th {\n",
       "        text-align: right;\n",
       "    }\n",
       "</style>\n",
       "<table border=\"1\" class=\"dataframe\">\n",
       "  <thead>\n",
       "    <tr style=\"text-align: right;\">\n",
       "      <th></th>\n",
       "      <th>Age</th>\n",
       "      <th>Workclass</th>\n",
       "      <th>fnlwgt</th>\n",
       "      <th>Education</th>\n",
       "      <th>Education-Num</th>\n",
       "      <th>Marital Status</th>\n",
       "      <th>Occupation</th>\n",
       "      <th>Relationship</th>\n",
       "      <th>Ethnic group</th>\n",
       "      <th>Sex</th>\n",
       "      <th>Capital Gain</th>\n",
       "      <th>Capital Loss</th>\n",
       "      <th>Hours per week</th>\n",
       "      <th>Country</th>\n",
       "      <th>Target</th>\n",
       "    </tr>\n",
       "  </thead>\n",
       "  <tbody>\n",
       "    <tr>\n",
       "      <th>0</th>\n",
       "      <td>39</td>\n",
       "      <td>State-gov</td>\n",
       "      <td>77516</td>\n",
       "      <td>Bachelors</td>\n",
       "      <td>13</td>\n",
       "      <td>Never-married</td>\n",
       "      <td>Adm-clerical</td>\n",
       "      <td>Not-in-family</td>\n",
       "      <td>White</td>\n",
       "      <td>Male</td>\n",
       "      <td>2174</td>\n",
       "      <td>0</td>\n",
       "      <td>40</td>\n",
       "      <td>United-States</td>\n",
       "      <td>&lt;=50K</td>\n",
       "    </tr>\n",
       "    <tr>\n",
       "      <th>1</th>\n",
       "      <td>50</td>\n",
       "      <td>Self-emp-not-inc</td>\n",
       "      <td>83311</td>\n",
       "      <td>Bachelors</td>\n",
       "      <td>13</td>\n",
       "      <td>Married-civ-spouse</td>\n",
       "      <td>Exec-managerial</td>\n",
       "      <td>Husband</td>\n",
       "      <td>White</td>\n",
       "      <td>Male</td>\n",
       "      <td>0</td>\n",
       "      <td>0</td>\n",
       "      <td>13</td>\n",
       "      <td>United-States</td>\n",
       "      <td>&lt;=50K</td>\n",
       "    </tr>\n",
       "    <tr>\n",
       "      <th>2</th>\n",
       "      <td>38</td>\n",
       "      <td>Private</td>\n",
       "      <td>215646</td>\n",
       "      <td>HS-grad</td>\n",
       "      <td>9</td>\n",
       "      <td>Divorced</td>\n",
       "      <td>Handlers-cleaners</td>\n",
       "      <td>Not-in-family</td>\n",
       "      <td>White</td>\n",
       "      <td>Male</td>\n",
       "      <td>0</td>\n",
       "      <td>0</td>\n",
       "      <td>40</td>\n",
       "      <td>United-States</td>\n",
       "      <td>&lt;=50K</td>\n",
       "    </tr>\n",
       "    <tr>\n",
       "      <th>3</th>\n",
       "      <td>53</td>\n",
       "      <td>Private</td>\n",
       "      <td>234721</td>\n",
       "      <td>11th</td>\n",
       "      <td>7</td>\n",
       "      <td>Married-civ-spouse</td>\n",
       "      <td>Handlers-cleaners</td>\n",
       "      <td>Husband</td>\n",
       "      <td>Black</td>\n",
       "      <td>Male</td>\n",
       "      <td>0</td>\n",
       "      <td>0</td>\n",
       "      <td>40</td>\n",
       "      <td>United-States</td>\n",
       "      <td>&lt;=50K</td>\n",
       "    </tr>\n",
       "    <tr>\n",
       "      <th>4</th>\n",
       "      <td>28</td>\n",
       "      <td>Private</td>\n",
       "      <td>338409</td>\n",
       "      <td>Bachelors</td>\n",
       "      <td>13</td>\n",
       "      <td>Married-civ-spouse</td>\n",
       "      <td>Prof-specialty</td>\n",
       "      <td>Wife</td>\n",
       "      <td>Black</td>\n",
       "      <td>Female</td>\n",
       "      <td>0</td>\n",
       "      <td>0</td>\n",
       "      <td>40</td>\n",
       "      <td>Cuba</td>\n",
       "      <td>&lt;=50K</td>\n",
       "    </tr>\n",
       "  </tbody>\n",
       "</table>\n",
       "</div>"
      ],
      "text/plain": [
       "   Age         Workclass  fnlwgt  Education  Education-Num  \\\n",
       "0   39         State-gov   77516  Bachelors             13   \n",
       "1   50  Self-emp-not-inc   83311  Bachelors             13   \n",
       "2   38           Private  215646    HS-grad              9   \n",
       "3   53           Private  234721       11th              7   \n",
       "4   28           Private  338409  Bachelors             13   \n",
       "\n",
       "       Marital Status         Occupation   Relationship Ethnic group     Sex  \\\n",
       "0       Never-married       Adm-clerical  Not-in-family        White    Male   \n",
       "1  Married-civ-spouse    Exec-managerial        Husband        White    Male   \n",
       "2            Divorced  Handlers-cleaners  Not-in-family        White    Male   \n",
       "3  Married-civ-spouse  Handlers-cleaners        Husband        Black    Male   \n",
       "4  Married-civ-spouse     Prof-specialty           Wife        Black  Female   \n",
       "\n",
       "   Capital Gain  Capital Loss  Hours per week        Country Target  \n",
       "0          2174             0              40  United-States  <=50K  \n",
       "1             0             0              13  United-States  <=50K  \n",
       "2             0             0              40  United-States  <=50K  \n",
       "3             0             0              40  United-States  <=50K  \n",
       "4             0             0              40           Cuba  <=50K  "
      ]
     },
     "execution_count": 152,
     "metadata": {},
     "output_type": "execute_result"
    }
   ],
   "source": [
    "df.head()"
   ]
  },
  {
   "cell_type": "code",
   "execution_count": 153,
   "id": "33f03f7e-217b-4d94-9936-a24388c45c5f",
   "metadata": {
    "tags": []
   },
   "outputs": [
    {
     "name": "stderr",
     "output_type": "stream",
     "text": [
      "/opt/conda/lib/python3.7/site-packages/ipykernel_launcher.py:8: DeprecationWarning: `np.object` is a deprecated alias for the builtin `object`. To silence this warning, use `object` by itself. Doing this will not modify any behavior and is safe. \n",
      "Deprecated in NumPy 1.20; for more details and guidance: https://numpy.org/devdocs/release/1.20.0-notes.html#deprecations\n",
      "  \n"
     ]
    }
   ],
   "source": [
    "from sklearn import preprocessing\n",
    "\n",
    "\n",
    "def number_encode_features(df):\n",
    "    result = df.copy()\n",
    "    encoders = {}\n",
    "    for column in result.columns:\n",
    "        if result.dtypes[column] == np.object:\n",
    "            encoders[column] = preprocessing.LabelEncoder()\n",
    "            result[column] = encoders[column].fit_transform(\n",
    "                result[column].fillna(\"None\")\n",
    "            )\n",
    "    return result, encoders\n",
    "\n",
    "\n",
    "training_data = pd.concat(\n",
    "    [training_data[\"Target\"], training_data.drop([\"Target\"], axis=1)], axis=1\n",
    ")\n",
    "training_data, _ = number_encode_features(training_data)\n",
    "training_data.to_csv(\"train_data.csv\", index=False, header=False)\n",
    "\n",
    "testing_data, _ = number_encode_features(testing_data)\n",
    "test_features = testing_data.drop([\"Target\"], axis=1)\n",
    "test_target = testing_data[\"Target\"]\n",
    "test_features.to_csv(\"test_features.csv\", index=False, header=False)"
   ]
  },
  {
   "cell_type": "code",
   "execution_count": 154,
   "id": "14cfc69b-dfdd-4700-bfdb-8b4d87449899",
   "metadata": {
    "tags": []
   },
   "outputs": [
    {
     "data": {
      "text/html": [
       "<div>\n",
       "<style scoped>\n",
       "    .dataframe tbody tr th:only-of-type {\n",
       "        vertical-align: middle;\n",
       "    }\n",
       "\n",
       "    .dataframe tbody tr th {\n",
       "        vertical-align: top;\n",
       "    }\n",
       "\n",
       "    .dataframe thead th {\n",
       "        text-align: right;\n",
       "    }\n",
       "</style>\n",
       "<table border=\"1\" class=\"dataframe\">\n",
       "  <thead>\n",
       "    <tr style=\"text-align: right;\">\n",
       "      <th></th>\n",
       "      <th>Target</th>\n",
       "      <th>Age</th>\n",
       "      <th>Workclass</th>\n",
       "      <th>fnlwgt</th>\n",
       "      <th>Education</th>\n",
       "      <th>Education-Num</th>\n",
       "      <th>Marital Status</th>\n",
       "      <th>Occupation</th>\n",
       "      <th>Relationship</th>\n",
       "      <th>Ethnic group</th>\n",
       "      <th>Sex</th>\n",
       "      <th>Capital Gain</th>\n",
       "      <th>Capital Loss</th>\n",
       "      <th>Hours per week</th>\n",
       "      <th>Country</th>\n",
       "    </tr>\n",
       "  </thead>\n",
       "  <tbody>\n",
       "    <tr>\n",
       "      <th>0</th>\n",
       "      <td>0</td>\n",
       "      <td>39</td>\n",
       "      <td>5</td>\n",
       "      <td>77516</td>\n",
       "      <td>9</td>\n",
       "      <td>13</td>\n",
       "      <td>4</td>\n",
       "      <td>0</td>\n",
       "      <td>1</td>\n",
       "      <td>4</td>\n",
       "      <td>1</td>\n",
       "      <td>2174</td>\n",
       "      <td>0</td>\n",
       "      <td>40</td>\n",
       "      <td>38</td>\n",
       "    </tr>\n",
       "    <tr>\n",
       "      <th>1</th>\n",
       "      <td>0</td>\n",
       "      <td>50</td>\n",
       "      <td>4</td>\n",
       "      <td>83311</td>\n",
       "      <td>9</td>\n",
       "      <td>13</td>\n",
       "      <td>2</td>\n",
       "      <td>3</td>\n",
       "      <td>0</td>\n",
       "      <td>4</td>\n",
       "      <td>1</td>\n",
       "      <td>0</td>\n",
       "      <td>0</td>\n",
       "      <td>13</td>\n",
       "      <td>38</td>\n",
       "    </tr>\n",
       "    <tr>\n",
       "      <th>2</th>\n",
       "      <td>0</td>\n",
       "      <td>38</td>\n",
       "      <td>2</td>\n",
       "      <td>215646</td>\n",
       "      <td>11</td>\n",
       "      <td>9</td>\n",
       "      <td>0</td>\n",
       "      <td>5</td>\n",
       "      <td>1</td>\n",
       "      <td>4</td>\n",
       "      <td>1</td>\n",
       "      <td>0</td>\n",
       "      <td>0</td>\n",
       "      <td>40</td>\n",
       "      <td>38</td>\n",
       "    </tr>\n",
       "    <tr>\n",
       "      <th>3</th>\n",
       "      <td>0</td>\n",
       "      <td>53</td>\n",
       "      <td>2</td>\n",
       "      <td>234721</td>\n",
       "      <td>1</td>\n",
       "      <td>7</td>\n",
       "      <td>2</td>\n",
       "      <td>5</td>\n",
       "      <td>0</td>\n",
       "      <td>2</td>\n",
       "      <td>1</td>\n",
       "      <td>0</td>\n",
       "      <td>0</td>\n",
       "      <td>40</td>\n",
       "      <td>38</td>\n",
       "    </tr>\n",
       "    <tr>\n",
       "      <th>4</th>\n",
       "      <td>0</td>\n",
       "      <td>28</td>\n",
       "      <td>2</td>\n",
       "      <td>338409</td>\n",
       "      <td>9</td>\n",
       "      <td>13</td>\n",
       "      <td>2</td>\n",
       "      <td>9</td>\n",
       "      <td>5</td>\n",
       "      <td>2</td>\n",
       "      <td>0</td>\n",
       "      <td>0</td>\n",
       "      <td>0</td>\n",
       "      <td>40</td>\n",
       "      <td>4</td>\n",
       "    </tr>\n",
       "  </tbody>\n",
       "</table>\n",
       "</div>"
      ],
      "text/plain": [
       "   Target  Age  Workclass  fnlwgt  Education  Education-Num  Marital Status  \\\n",
       "0       0   39          5   77516          9             13               4   \n",
       "1       0   50          4   83311          9             13               2   \n",
       "2       0   38          2  215646         11              9               0   \n",
       "3       0   53          2  234721          1              7               2   \n",
       "4       0   28          2  338409          9             13               2   \n",
       "\n",
       "   Occupation  Relationship  Ethnic group  Sex  Capital Gain  Capital Loss  \\\n",
       "0           0             1             4    1          2174             0   \n",
       "1           3             0             4    1             0             0   \n",
       "2           5             1             4    1             0             0   \n",
       "3           5             0             2    1             0             0   \n",
       "4           9             5             2    0             0             0   \n",
       "\n",
       "   Hours per week  Country  \n",
       "0              40       38  \n",
       "1              13       38  \n",
       "2              40       38  \n",
       "3              40       38  \n",
       "4              40        4  "
      ]
     },
     "execution_count": 154,
     "metadata": {},
     "output_type": "execute_result"
    }
   ],
   "source": [
    "training_data.head()"
   ]
  },
  {
   "cell_type": "code",
   "execution_count": 155,
   "id": "002dc6f7-0299-4ba7-9faa-68e5a9ff05a0",
   "metadata": {
    "tags": []
   },
   "outputs": [],
   "source": [
    "df = training_data"
   ]
  },
  {
   "cell_type": "code",
   "execution_count": 156,
   "id": "fc9691f3-0787-488f-b07c-0f26ca3485b0",
   "metadata": {
    "tags": []
   },
   "outputs": [
    {
     "data": {
      "text/plain": [
       "Target            int64\n",
       "Age               int64\n",
       "Workclass         int64\n",
       "fnlwgt            int64\n",
       "Education         int64\n",
       "Education-Num     int64\n",
       "Marital Status    int64\n",
       "Occupation        int64\n",
       "Relationship      int64\n",
       "Ethnic group      int64\n",
       "Sex               int64\n",
       "Capital Gain      int64\n",
       "Capital Loss      int64\n",
       "Hours per week    int64\n",
       "Country           int64\n",
       "dtype: object"
      ]
     },
     "execution_count": 156,
     "metadata": {},
     "output_type": "execute_result"
    }
   ],
   "source": [
    "df.dtypes"
   ]
  },
  {
   "cell_type": "markdown",
   "id": "551b0077-2449-46b6-a39a-0477de81e366",
   "metadata": {},
   "source": [
    "## Marital Comlumn - Feature "
   ]
  },
  {
   "cell_type": "code",
   "execution_count": 157,
   "id": "6d02d964-849a-4d0f-a0ac-6e029602157c",
   "metadata": {
    "tags": []
   },
   "outputs": [],
   "source": [
    "count_facet = df.value_counts(feature_name)"
   ]
  },
  {
   "cell_type": "code",
   "execution_count": 158,
   "id": "35aaa072-ab9a-488e-8f8a-de19428adeaa",
   "metadata": {
    "tags": []
   },
   "outputs": [
    {
     "data": {
      "text/plain": [
       "Sex\n",
       "1    20380\n",
       "0     9782\n",
       "dtype: int64"
      ]
     },
     "execution_count": 158,
     "metadata": {},
     "output_type": "execute_result"
    }
   ],
   "source": [
    "count_facet"
   ]
  },
  {
   "cell_type": "code",
   "execution_count": 159,
   "id": "74d2150d-eb9b-4e33-ba61-27e52b6c34f4",
   "metadata": {
    "tags": []
   },
   "outputs": [
    {
     "data": {
      "image/png": "[encoded data removed]",
      "text/plain": [
       "<Figure size 640x480 with 1 Axes>"
      ]
     },
     "metadata": {},
     "output_type": "display_data"
    }
   ],
   "source": [
    "df.value_counts([feature_name]).plot.bar()\n",
    "plt.show()"
   ]
  },
  {
   "cell_type": "markdown",
   "id": "7f2a4c42-2229-42eb-a7b0-063c517533fc",
   "metadata": {},
   "source": [
    "## Class Imbalance - CI\n",
    "\n",
    "Here is the [docs](https://docs.aws.amazon.com/sagemaker/latest/dg/clarify-bias-metric-class-imbalance.html)\n",
    "\n",
    "## $$ CI = \\frac{n_a - n_d}{n_a + n_d}$$\n",
    "\n",
    "- $n_a$ is the number of facet a ==> no. of maried \n",
    "- $n_d$ is the number of facet b ==> no. of no married "
   ]
  },
  {
   "cell_type": "code",
   "execution_count": 160,
   "id": "fb709d2a-4e99-4918-8b40-98324f136276",
   "metadata": {
    "tags": []
   },
   "outputs": [],
   "source": [
    "def compute_ci(df, feature_name: str, facet_d: str):\n",
    "    \"\"\"\n",
    "    I calcluate CI\n",
    "    \"\"\"\n",
    "    # number of facet a\n",
    "    n_d = len(df[df[feature_name] == facet_d])\n",
    "    # number of facet d\n",
    "    n_a = len(df[df[feature_name] != facet_d])\n",
    "    # calculate ci\n",
    "    ci = (n_a - n_d) / (n_a + n_d)\n",
    "    return ci"
   ]
  },
  {
   "cell_type": "code",
   "execution_count": 161,
   "id": "d22a455e-f425-4d88-9740-de1232f7c7e4",
   "metadata": {
    "tags": []
   },
   "outputs": [],
   "source": [
    "ci = compute_ci(df, feature_name=feature_name, facet_d=facet)"
   ]
  },
  {
   "cell_type": "code",
   "execution_count": 181,
   "id": "d6087391-1650-4403-a2af-87bcd62467d2",
   "metadata": {
    "tags": []
   },
   "outputs": [
    {
     "data": {
      "text/markdown": [
       "### class imbalanced facet married: 0.3513692725946555"
      ],
      "text/plain": [
       "<IPython.core.display.Markdown object>"
      ]
     },
     "metadata": {},
     "output_type": "display_data"
    }
   ],
   "source": [
    "display(Markdown(f\"### class imbalanced facet married: {ci:.16f}\"))"
   ]
  },
  {
   "cell_type": "markdown",
   "id": "00ab5161-1dc9-4527-ab5f-4aa68d9c4771",
   "metadata": {},
   "source": [
    "## Difference in Positive Proportions in Labels (DPL)\n",
    "\n",
    "## $$ q_a = \\frac{n_a^{(1)}}{n_a}, q_b = \\frac{n_d^{(1)}}{n_d} $$\n",
    "## $$ DPL = (q_a - q_b) $$\n",
    "\n",
    "- $n_a^{(1)}$ is the number of facet a given positive label ==> no. married and y = 1\n",
    "- $n_d^{(1)}$ is the number of facet d given positive label ==> no. not married and y = 1"
   ]
  },
  {
   "cell_type": "code",
   "execution_count": 163,
   "id": "e7a2c2f3-ed2f-476b-98f9-5c0c470f66bd",
   "metadata": {
    "tags": []
   },
   "outputs": [],
   "source": [
    "def compute_dpl(\n",
    "    df: pd.DataFrame, feature_name: str, facet_d: str, target_name: str, label\n",
    "):\n",
    "    \"\"\"\n",
    "    I calculate difference in positive proportions in labels\n",
    "    \"\"\"\n",
    "    # number of facet a\n",
    "    n_d = len(df[df[feature_name] == facet_d])\n",
    "    # number of facet a given positive labels\n",
    "    n_d_1 = len(df[(df[feature_name] == facet_d) & (df[target_name] == label)])\n",
    "    # number of facet d\n",
    "    n_a = len(df[df[feature_name] != facet_d])\n",
    "    # number of facet d give positive labels\n",
    "    n_a_1 = len(df[(df[feature_name] != facet_d) & (df[target_name] == label)])\n",
    "    # qa\n",
    "    q_a = n_a_1 / n_a\n",
    "    # qd\n",
    "    q_d = n_d_1 / n_d\n",
    "    # dpl\n",
    "    dpl = q_a - q_d\n",
    "    return dpl"
   ]
  },
  {
   "cell_type": "code",
   "execution_count": 164,
   "id": "813b3347-8d4f-4db8-aa84-bb348a2443ea",
   "metadata": {
    "tags": []
   },
   "outputs": [],
   "source": [
    "dpl = compute_dpl(\n",
    "    df=df,\n",
    "    feature_name=feature_name,\n",
    "    facet_d=facet,\n",
    "    target_name=target_name,\n",
    "    label=label,\n",
    ")"
   ]
  },
  {
   "cell_type": "code",
   "execution_count": 165,
   "id": "9660f41c-a671-4330-967b-b170856fcdc9",
   "metadata": {
    "tags": []
   },
   "outputs": [
    {
     "data": {
      "text/plain": [
       "0.20015891077100018"
      ]
     },
     "execution_count": 165,
     "metadata": {},
     "output_type": "execute_result"
    }
   ],
   "source": [
    "dpl"
   ]
  },
  {
   "cell_type": "code",
   "execution_count": 182,
   "id": "dc05bdc1-ff58-436f-bbe4-a4a4f311c194",
   "metadata": {
    "tags": []
   },
   "outputs": [
    {
     "data": {
      "text/markdown": [
       "### Difference in Positive Proportions in Labels: 0.2001589107710002"
      ],
      "text/plain": [
       "<IPython.core.display.Markdown object>"
      ]
     },
     "metadata": {},
     "output_type": "display_data"
    }
   ],
   "source": [
    "display(Markdown(f\"### Difference in Positive Proportions in Labels: {dpl:.16f}\"))"
   ]
  },
  {
   "cell_type": "markdown",
   "id": "1741407e-8400-4cb8-a46c-ca8ee62d5fff",
   "metadata": {},
   "source": [
    "## Kullback-Leibler Divergence (KL)\n",
    "\n",
    "## $$ KL = \\sum_y P_a(y)log{\\frac{P_a(y)}{P_d(y)}}$$"
   ]
  },
  {
   "cell_type": "code",
   "execution_count": 167,
   "id": "e1b4e78c-1f1b-4c9f-88cf-33d0afffc6c9",
   "metadata": {
    "tags": []
   },
   "outputs": [],
   "source": [
    "def compute_kl(\n",
    "    df: pd.DataFrame,\n",
    "    feature_name: str,\n",
    "    facet: str,\n",
    "    target_name: str,\n",
    "    label,\n",
    "):\n",
    "    \"\"\"\n",
    "    I compute Kullback-Leibler Divergence\n",
    "    \"\"\"\n",
    "    # number of facet d\n",
    "    n_d = len(df[df[feature_name] == facet])\n",
    "    # number of facet a\n",
    "    n_a = len(df[df[feature_name] != facet])\n",
    "    # positive given d\n",
    "    p_positive_given_d = (\n",
    "        len(df[(df[feature_name] == facet) & (df[target_name] == label)]) / n_d\n",
    "    )\n",
    "    # positive given a\n",
    "    p_positive_given_a = (\n",
    "        len(df[(df[feature_name] != facet) & (df[target_name] == label)]) / n_a\n",
    "    )\n",
    "    # negative given d\n",
    "    p_negative_given_d = (\n",
    "        len(df[(df[feature_name] == facet) & (df[target_name] != label)]) / n_d\n",
    "    )\n",
    "    # negative given a\n",
    "    p_negative_given_a = (\n",
    "        len(df[(df[feature_name] != facet) & (df[target_name] != label)]) / n_a\n",
    "    )\n",
    "    # kl\n",
    "    kl = p_positive_given_a * np.log(\n",
    "        p_positive_given_a / p_positive_given_d\n",
    "    ) + p_negative_given_a * np.log(p_negative_given_a / p_negative_given_d)\n",
    "    return kl"
   ]
  },
  {
   "cell_type": "code",
   "execution_count": 168,
   "id": "fdf5de85-c3ac-4fa0-894e-4df04da01166",
   "metadata": {
    "tags": []
   },
   "outputs": [],
   "source": [
    "kl = compute_kl(\n",
    "    df=df,\n",
    "    feature_name=feature_name,\n",
    "    facet=0,\n",
    "    target_name=target_name,\n",
    "    label=1\n",
    ")"
   ]
  },
  {
   "cell_type": "code",
   "execution_count": 169,
   "id": "761b5a5c-e2c9-4d75-8d41-e9d6e1352a4c",
   "metadata": {
    "tags": []
   },
   "outputs": [
    {
     "data": {
      "text/plain": [
       "0.14306865156306434"
      ]
     },
     "execution_count": 169,
     "metadata": {},
     "output_type": "execute_result"
    }
   ],
   "source": [
    "kl"
   ]
  },
  {
   "cell_type": "code",
   "execution_count": 183,
   "id": "8362d293-5b9a-48eb-8526-4cb41f098f8d",
   "metadata": {
    "tags": []
   },
   "outputs": [
    {
     "data": {
      "text/markdown": [
       "### KL Divergence: 0.1430686515630643"
      ],
      "text/plain": [
       "<IPython.core.display.Markdown object>"
      ]
     },
     "metadata": {},
     "output_type": "display_data"
    }
   ],
   "source": [
    "display(Markdown(f\"### KL Divergence: {kl:.16f}\"))"
   ]
  },
  {
   "cell_type": "markdown",
   "id": "569168fc-0a04-4503-ae25-137b63233f70",
   "metadata": {
    "tags": []
   },
   "source": [
    "## Jessen Shannon\n",
    "\n",
    "## $$ JS = \\frac{1}{2}[LK(P_a || P) + KL(P_d || P)]  $$\n",
    "\n",
    "## $$ P = \\frac{1}{2}(P_a + P_d)$$"
   ]
  },
  {
   "cell_type": "code",
   "execution_count": 171,
   "id": "6d6df0ea-c338-4a9b-a51f-c840eb590feb",
   "metadata": {
    "tags": []
   },
   "outputs": [],
   "source": [
    "def compute_js(\n",
    "    df: pd.DataFrame, feature_name: str, facet: str, target_name: str, label\n",
    "):\n",
    "    \"\"\"\n",
    "    I compute Jessen Shannon Divergence\n",
    "    \"\"\"\n",
    "    # number of facet d\n",
    "    n_d = len(df[df[feature_name] == facet])\n",
    "    # number of facet a\n",
    "    n_a = len(df[df[feature_name] != facet])\n",
    "    # positve given d\n",
    "    p_positive_given_d = (\n",
    "        len(df[(df[feature_name] == facet) & (df[target_name] == label)]) / n_d\n",
    "    )\n",
    "    # postive given a\n",
    "    p_positive_given_a = (\n",
    "        len(df[(df[feature_name] != facet) & (df[target_name] == label)]) / n_a\n",
    "    )\n",
    "    # negative given d\n",
    "    p_negative_given_d = (\n",
    "        len(df[(df[feature_name] == facet) & (df[target_name] != label)]) / n_d\n",
    "    )\n",
    "    # negative given a\n",
    "    p_negative_given_a = (\n",
    "        len(df[(df[feature_name] != facet) & (df[target_name] != label)]) / n_a\n",
    "    )\n",
    "    # average positive\n",
    "    p_positive = 0.5 * (p_positive_given_a + p_positive_given_d)\n",
    "    # average negative\n",
    "    p_negative = 0.5 * (p_negative_given_a + p_negative_given_d)\n",
    "    # term 1\n",
    "    item_1 = p_positive_given_a * np.log(\n",
    "        p_positive_given_a / p_positive\n",
    "    ) + p_negative_given_a * np.log(p_negative_given_a / p_negative)\n",
    "    # term 2\n",
    "    item_2 = p_positive_given_d * np.log(\n",
    "        p_positive_given_d / p_positive\n",
    "    ) + p_negative_given_d * np.log(p_negative_given_d / p_negative)\n",
    "    # jessen shannon\n",
    "    js = 0.5 * (item_1 + item_2)\n",
    "    return js"
   ]
  },
  {
   "cell_type": "code",
   "execution_count": 172,
   "id": "012b534d-fe9e-437e-a841-62920af4dff7",
   "metadata": {
    "tags": []
   },
   "outputs": [],
   "source": [
    "js = compute_js(\n",
    "    df=df, feature_name=feature_name, facet=facet, target_name=target_name, label=label\n",
    ")"
   ]
  },
  {
   "cell_type": "code",
   "execution_count": 173,
   "id": "5ba9fb8c-7e22-4af4-9b12-73cd4a3ee40a",
   "metadata": {
    "tags": []
   },
   "outputs": [
    {
     "data": {
      "text/plain": [
       "0.030756144659773006"
      ]
     },
     "execution_count": 173,
     "metadata": {},
     "output_type": "execute_result"
    }
   ],
   "source": [
    "js"
   ]
  },
  {
   "cell_type": "code",
   "execution_count": 184,
   "id": "b5cd76aa-8a55-46d5-981c-9d435eeccafd",
   "metadata": {
    "tags": []
   },
   "outputs": [
    {
     "data": {
      "text/markdown": [
       "### Jessen Shannon Divergence: 0.0307561446597730"
      ],
      "text/plain": [
       "<IPython.core.display.Markdown object>"
      ]
     },
     "metadata": {},
     "output_type": "display_data"
    }
   ],
   "source": [
    "display(Markdown(f\"### Jessen Shannon Divergence: {js:.16f}\"))"
   ]
  },
  {
   "cell_type": "markdown",
   "id": "d05c2b7a-5405-43e0-877e-315c14b65376",
   "metadata": {},
   "source": [
    "## My Bias Report "
   ]
  },
  {
   "cell_type": "code",
   "execution_count": 175,
   "id": "827741cc-c897-4f9e-97b6-a72c1af06f25",
   "metadata": {
    "tags": []
   },
   "outputs": [],
   "source": [
    "import json"
   ]
  },
  {
   "cell_type": "code",
   "execution_count": 176,
   "id": "2c73217e-b7ac-43be-bb00-30824c7f161b",
   "metadata": {
    "tags": []
   },
   "outputs": [],
   "source": [
    "bias_report = {\n",
    "    \"metrics\": [\n",
    "        {\"name\": \"ci\", \"value\": f\"{ci:.16f}\"},\n",
    "        {\"name\": \"dpl\", \"value\": f\"{dpl:.16f}\"},\n",
    "        {\"name\": \"js\", \"value\": f\"{js:.16f}\"},\n",
    "        {\"name\": \"kl\", \"value\": f\"{kl:.16f}\"},\n",
    "    ]\n",
    "}"
   ]
  },
  {
   "cell_type": "code",
   "execution_count": 177,
   "id": "a9e20d31-c5df-4b14-863e-cb1ee2be9cfb",
   "metadata": {
    "tags": []
   },
   "outputs": [
    {
     "name": "stdout",
     "output_type": "stream",
     "text": [
      "{\n",
      "    \"metrics\": [\n",
      "        {\n",
      "            \"name\": \"ci\",\n",
      "            \"value\": \"0.3513692725946555\"\n",
      "        },\n",
      "        {\n",
      "            \"name\": \"dpl\",\n",
      "            \"value\": \"0.2001589107710002\"\n",
      "        },\n",
      "        {\n",
      "            \"name\": \"js\",\n",
      "            \"value\": \"0.0307561446597730\"\n",
      "        },\n",
      "        {\n",
      "            \"name\": \"kl\",\n",
      "            \"value\": \"0.1430686515630643\"\n",
      "        }\n",
      "    ]\n",
      "}\n"
     ]
    }
   ],
   "source": [
    "print(json.dumps(bias_report, indent=4))"
   ]
  },
  {
   "cell_type": "code",
   "execution_count": 178,
   "id": "23de99dd-4981-4456-9963-e20f55164e99",
   "metadata": {
    "tags": []
   },
   "outputs": [],
   "source": [
    "sm_clarify_bias = [\n",
    "    {\n",
    "        \"name\": \"CI\", \n",
    "        \"description\": \"Class Imbalance (CI)\", \n",
    "        \"value\": 0.3513692725946555\n",
    "    },\n",
    "    {\n",
    "        \"name\": \"DPL\",\n",
    "        \"description\": \"Difference in Positive Proportions in Labels (DPL)\",\n",
    "        \"value\": 0.20015891077100018,\n",
    "    },\n",
    "    {\n",
    "        \"name\": \"JS\",\n",
    "        \"description\": \"Jensen-Shannon Divergence (JS)\",\n",
    "        \"value\": 0.03075614465977302,\n",
    "    },\n",
    "    {\n",
    "        \"name\": \"KL\",\n",
    "        \"description\": \"Kullback-Liebler Divergence (KL)\",\n",
    "        \"value\": 0.14306865156306428,\n",
    "    },\n",
    "]"
   ]
  },
  {
   "cell_type": "markdown",
   "id": "ce752e71-b906-48b2-9eef-eafe5fb55293",
   "metadata": {},
   "source": [
    "## Compare My Bias with SageMaker Clarify \n",
    "\n",
    "[IEEE 754 Double Precision](https://en.wikipedia.org/wiki/Double-precision_floating-point_format)"
   ]
  },
  {
   "cell_type": "code",
   "execution_count": 185,
   "id": "be32babc-7f34-4e0f-bf1b-836f9f147371",
   "metadata": {
    "tags": []
   },
   "outputs": [
    {
     "name": "stdout",
     "output_type": "stream",
     "text": [
      "my ci 0.3513692725946555 and clarify ci 0.3513692725946555\n",
      "my dpl 0.2001589107710002 and clarify dpl 0.2001589107710002\n",
      "my js 0.0307561446597730 and clarify js 0.0307561446597730\n",
      "my kl 0.1430686515630643 and clarify kl 0.1430686515630643\n"
     ]
    }
   ],
   "source": [
    "print(\"my ci {0:.16f} and clarify ci {1:.16f}\".format(ci, sm_clarify_bias[0][\"value\"]))\n",
    "print(\"my dpl {0:.16f} and clarify dpl {1:.16f}\".format(dpl, sm_clarify_bias[1][\"value\"]))\n",
    "print(\"my js {0:.16f} and clarify js {1:.16f}\".format(js, sm_clarify_bias[2][\"value\"]))\n",
    "print(\"my kl {0:.16f} and clarify kl {1:.16f}\".format(kl, sm_clarify_bias[3][\"value\"]))"
   ]
  },
  {
   "cell_type": "code",
   "execution_count": null,
   "id": "7a9213ae-362d-48d5-ada2-31653dde32f1",
   "metadata": {},
   "outputs": [],
   "source": []
  }
 ],
 "metadata": {
  "availableInstances": [
   {
    "_defaultOrder": 0,
    "_isFastLaunch": true,
    "category": "General purpose",
    "gpuNum": 0,
    "hideHardwareSpecs": false,
    "memoryGiB": 4,
    "name": "ml.t3.medium",
    "vcpuNum": 2
   },
   {
    "_defaultOrder": 1,
    "_isFastLaunch": false,
    "category": "General purpose",
    "gpuNum": 0,
    "hideHardwareSpecs": false,
    "memoryGiB": 8,
    "name": "ml.t3.large",
    "vcpuNum": 2
   },
   {
    "_defaultOrder": 2,
    "_isFastLaunch": false,
    "category": "General purpose",
    "gpuNum": 0,
    "hideHardwareSpecs": false,
    "memoryGiB": 16,
    "name": "ml.t3.xlarge",
    "vcpuNum": 4
   },
   {
    "_defaultOrder": 3,
    "_isFastLaunch": false,
    "category": "General purpose",
    "gpuNum": 0,
    "hideHardwareSpecs": false,
    "memoryGiB": 32,
    "name": "ml.t3.2xlarge",
    "vcpuNum": 8
   },
   {
    "_defaultOrder": 4,
    "_isFastLaunch": true,
    "category": "General purpose",
    "gpuNum": 0,
    "hideHardwareSpecs": false,
    "memoryGiB": 8,
    "name": "ml.m5.large",
    "vcpuNum": 2
   },
   {
    "_defaultOrder": 5,
    "_isFastLaunch": false,
    "category": "General purpose",
    "gpuNum": 0,
    "hideHardwareSpecs": false,
    "memoryGiB": 16,
    "name": "ml.m5.xlarge",
    "vcpuNum": 4
   },
   {
    "_defaultOrder": 6,
    "_isFastLaunch": false,
    "category": "General purpose",
    "gpuNum": 0,
    "hideHardwareSpecs": false,
    "memoryGiB": 32,
    "name": "ml.m5.2xlarge",
    "vcpuNum": 8
   },
   {
    "_defaultOrder": 7,
    "_isFastLaunch": false,
    "category": "General purpose",
    "gpuNum": 0,
    "hideHardwareSpecs": false,
    "memoryGiB": 64,
    "name": "ml.m5.4xlarge",
    "vcpuNum": 16
   },
   {
    "_defaultOrder": 8,
    "_isFastLaunch": false,
    "category": "General purpose",
    "gpuNum": 0,
    "hideHardwareSpecs": false,
    "memoryGiB": 128,
    "name": "ml.m5.8xlarge",
    "vcpuNum": 32
   },
   {
    "_defaultOrder": 9,
    "_isFastLaunch": false,
    "category": "General purpose",
    "gpuNum": 0,
    "hideHardwareSpecs": false,
    "memoryGiB": 192,
    "name": "ml.m5.12xlarge",
    "vcpuNum": 48
   },
   {
    "_defaultOrder": 10,
    "_isFastLaunch": false,
    "category": "General purpose",
    "gpuNum": 0,
    "hideHardwareSpecs": false,
    "memoryGiB": 256,
    "name": "ml.m5.16xlarge",
    "vcpuNum": 64
   },
   {
    "_defaultOrder": 11,
    "_isFastLaunch": false,
    "category": "General purpose",
    "gpuNum": 0,
    "hideHardwareSpecs": false,
    "memoryGiB": 384,
    "name": "ml.m5.24xlarge",
    "vcpuNum": 96
   },
   {
    "_defaultOrder": 12,
    "_isFastLaunch": false,
    "category": "General purpose",
    "gpuNum": 0,
    "hideHardwareSpecs": false,
    "memoryGiB": 8,
    "name": "ml.m5d.large",
    "vcpuNum": 2
   },
   {
    "_defaultOrder": 13,
    "_isFastLaunch": false,
    "category": "General purpose",
    "gpuNum": 0,
    "hideHardwareSpecs": false,
    "memoryGiB": 16,
    "name": "ml.m5d.xlarge",
    "vcpuNum": 4
   },
   {
    "_defaultOrder": 14,
    "_isFastLaunch": false,
    "category": "General purpose",
    "gpuNum": 0,
    "hideHardwareSpecs": false,
    "memoryGiB": 32,
    "name": "ml.m5d.2xlarge",
    "vcpuNum": 8
   },
   {
    "_defaultOrder": 15,
    "_isFastLaunch": false,
    "category": "General purpose",
    "gpuNum": 0,
    "hideHardwareSpecs": false,
    "memoryGiB": 64,
    "name": "ml.m5d.4xlarge",
    "vcpuNum": 16
   },
   {
    "_defaultOrder": 16,
    "_isFastLaunch": false,
    "category": "General purpose",
    "gpuNum": 0,
    "hideHardwareSpecs": false,
    "memoryGiB": 128,
    "name": "ml.m5d.8xlarge",
    "vcpuNum": 32
   },
   {
    "_defaultOrder": 17,
    "_isFastLaunch": false,
    "category": "General purpose",
    "gpuNum": 0,
    "hideHardwareSpecs": false,
    "memoryGiB": 192,
    "name": "ml.m5d.12xlarge",
    "vcpuNum": 48
   },
   {
    "_defaultOrder": 18,
    "_isFastLaunch": false,
    "category": "General purpose",
    "gpuNum": 0,
    "hideHardwareSpecs": false,
    "memoryGiB": 256,
    "name": "ml.m5d.16xlarge",
    "vcpuNum": 64
   },
   {
    "_defaultOrder": 19,
    "_isFastLaunch": false,
    "category": "General purpose",
    "gpuNum": 0,
    "hideHardwareSpecs": false,
    "memoryGiB": 384,
    "name": "ml.m5d.24xlarge",
    "vcpuNum": 96
   },
   {
    "_defaultOrder": 20,
    "_isFastLaunch": false,
    "category": "General purpose",
    "gpuNum": 0,
    "hideHardwareSpecs": true,
    "memoryGiB": 0,
    "name": "ml.geospatial.interactive",
    "supportedImageNames": [
     "sagemaker-geospatial-v1-0"
    ],
    "vcpuNum": 0
   },
   {
    "_defaultOrder": 21,
    "_isFastLaunch": true,
    "category": "Compute optimized",
    "gpuNum": 0,
    "hideHardwareSpecs": false,
    "memoryGiB": 4,
    "name": "ml.c5.large",
    "vcpuNum": 2
   },
   {
    "_defaultOrder": 22,
    "_isFastLaunch": false,
    "category": "Compute optimized",
    "gpuNum": 0,
    "hideHardwareSpecs": false,
    "memoryGiB": 8,
    "name": "ml.c5.xlarge",
    "vcpuNum": 4
   },
   {
    "_defaultOrder": 23,
    "_isFastLaunch": false,
    "category": "Compute optimized",
    "gpuNum": 0,
    "hideHardwareSpecs": false,
    "memoryGiB": 16,
    "name": "ml.c5.2xlarge",
    "vcpuNum": 8
   },
   {
    "_defaultOrder": 24,
    "_isFastLaunch": false,
    "category": "Compute optimized",
    "gpuNum": 0,
    "hideHardwareSpecs": false,
    "memoryGiB": 32,
    "name": "ml.c5.4xlarge",
    "vcpuNum": 16
   },
   {
    "_defaultOrder": 25,
    "_isFastLaunch": false,
    "category": "Compute optimized",
    "gpuNum": 0,
    "hideHardwareSpecs": false,
    "memoryGiB": 72,
    "name": "ml.c5.9xlarge",
    "vcpuNum": 36
   },
   {
    "_defaultOrder": 26,
    "_isFastLaunch": false,
    "category": "Compute optimized",
    "gpuNum": 0,
    "hideHardwareSpecs": false,
    "memoryGiB": 96,
    "name": "ml.c5.12xlarge",
    "vcpuNum": 48
   },
   {
    "_defaultOrder": 27,
    "_isFastLaunch": false,
    "category": "Compute optimized",
    "gpuNum": 0,
    "hideHardwareSpecs": false,
    "memoryGiB": 144,
    "name": "ml.c5.18xlarge",
    "vcpuNum": 72
   },
   {
    "_defaultOrder": 28,
    "_isFastLaunch": false,
    "category": "Compute optimized",
    "gpuNum": 0,
    "hideHardwareSpecs": false,
    "memoryGiB": 192,
    "name": "ml.c5.24xlarge",
    "vcpuNum": 96
   },
   {
    "_defaultOrder": 29,
    "_isFastLaunch": true,
    "category": "Accelerated computing",
    "gpuNum": 1,
    "hideHardwareSpecs": false,
    "memoryGiB": 16,
    "name": "ml.g4dn.xlarge",
    "vcpuNum": 4
   },
   {
    "_defaultOrder": 30,
    "_isFastLaunch": false,
    "category": "Accelerated computing",
    "gpuNum": 1,
    "hideHardwareSpecs": false,
    "memoryGiB": 32,
    "name": "ml.g4dn.2xlarge",
    "vcpuNum": 8
   },
   {
    "_defaultOrder": 31,
    "_isFastLaunch": false,
    "category": "Accelerated computing",
    "gpuNum": 1,
    "hideHardwareSpecs": false,
    "memoryGiB": 64,
    "name": "ml.g4dn.4xlarge",
    "vcpuNum": 16
   },
   {
    "_defaultOrder": 32,
    "_isFastLaunch": false,
    "category": "Accelerated computing",
    "gpuNum": 1,
    "hideHardwareSpecs": false,
    "memoryGiB": 128,
    "name": "ml.g4dn.8xlarge",
    "vcpuNum": 32
   },
   {
    "_defaultOrder": 33,
    "_isFastLaunch": false,
    "category": "Accelerated computing",
    "gpuNum": 4,
    "hideHardwareSpecs": false,
    "memoryGiB": 192,
    "name": "ml.g4dn.12xlarge",
    "vcpuNum": 48
   },
   {
    "_defaultOrder": 34,
    "_isFastLaunch": false,
    "category": "Accelerated computing",
    "gpuNum": 1,
    "hideHardwareSpecs": false,
    "memoryGiB": 256,
    "name": "ml.g4dn.16xlarge",
    "vcpuNum": 64
   },
   {
    "_defaultOrder": 35,
    "_isFastLaunch": false,
    "category": "Accelerated computing",
    "gpuNum": 1,
    "hideHardwareSpecs": false,
    "memoryGiB": 61,
    "name": "ml.p3.2xlarge",
    "vcpuNum": 8
   },
   {
    "_defaultOrder": 36,
    "_isFastLaunch": false,
    "category": "Accelerated computing",
    "gpuNum": 4,
    "hideHardwareSpecs": false,
    "memoryGiB": 244,
    "name": "ml.p3.8xlarge",
    "vcpuNum": 32
   },
   {
    "_defaultOrder": 37,
    "_isFastLaunch": false,
    "category": "Accelerated computing",
    "gpuNum": 8,
    "hideHardwareSpecs": false,
    "memoryGiB": 488,
    "name": "ml.p3.16xlarge",
    "vcpuNum": 64
   },
   {
    "_defaultOrder": 38,
    "_isFastLaunch": false,
    "category": "Accelerated computing",
    "gpuNum": 8,
    "hideHardwareSpecs": false,
    "memoryGiB": 768,
    "name": "ml.p3dn.24xlarge",
    "vcpuNum": 96
   },
   {
    "_defaultOrder": 39,
    "_isFastLaunch": false,
    "category": "Memory Optimized",
    "gpuNum": 0,
    "hideHardwareSpecs": false,
    "memoryGiB": 16,
    "name": "ml.r5.large",
    "vcpuNum": 2
   },
   {
    "_defaultOrder": 40,
    "_isFastLaunch": false,
    "category": "Memory Optimized",
    "gpuNum": 0,
    "hideHardwareSpecs": false,
    "memoryGiB": 32,
    "name": "ml.r5.xlarge",
    "vcpuNum": 4
   },
   {
    "_defaultOrder": 41,
    "_isFastLaunch": false,
    "category": "Memory Optimized",
    "gpuNum": 0,
    "hideHardwareSpecs": false,
    "memoryGiB": 64,
    "name": "ml.r5.2xlarge",
    "vcpuNum": 8
   },
   {
    "_defaultOrder": 42,
    "_isFastLaunch": false,
    "category": "Memory Optimized",
    "gpuNum": 0,
    "hideHardwareSpecs": false,
    "memoryGiB": 128,
    "name": "ml.r5.4xlarge",
    "vcpuNum": 16
   },
   {
    "_defaultOrder": 43,
    "_isFastLaunch": false,
    "category": "Memory Optimized",
    "gpuNum": 0,
    "hideHardwareSpecs": false,
    "memoryGiB": 256,
    "name": "ml.r5.8xlarge",
    "vcpuNum": 32
   },
   {
    "_defaultOrder": 44,
    "_isFastLaunch": false,
    "category": "Memory Optimized",
    "gpuNum": 0,
    "hideHardwareSpecs": false,
    "memoryGiB": 384,
    "name": "ml.r5.12xlarge",
    "vcpuNum": 48
   },
   {
    "_defaultOrder": 45,
    "_isFastLaunch": false,
    "category": "Memory Optimized",
    "gpuNum": 0,
    "hideHardwareSpecs": false,
    "memoryGiB": 512,
    "name": "ml.r5.16xlarge",
    "vcpuNum": 64
   },
   {
    "_defaultOrder": 46,
    "_isFastLaunch": false,
    "category": "Memory Optimized",
    "gpuNum": 0,
    "hideHardwareSpecs": false,
    "memoryGiB": 768,
    "name": "ml.r5.24xlarge",
    "vcpuNum": 96
   },
   {
    "_defaultOrder": 47,
    "_isFastLaunch": false,
    "category": "Accelerated computing",
    "gpuNum": 1,
    "hideHardwareSpecs": false,
    "memoryGiB": 16,
    "name": "ml.g5.xlarge",
    "vcpuNum": 4
   },
   {
    "_defaultOrder": 48,
    "_isFastLaunch": false,
    "category": "Accelerated computing",
    "gpuNum": 1,
    "hideHardwareSpecs": false,
    "memoryGiB": 32,
    "name": "ml.g5.2xlarge",
    "vcpuNum": 8
   },
   {
    "_defaultOrder": 49,
    "_isFastLaunch": false,
    "category": "Accelerated computing",
    "gpuNum": 1,
    "hideHardwareSpecs": false,
    "memoryGiB": 64,
    "name": "ml.g5.4xlarge",
    "vcpuNum": 16
   },
   {
    "_defaultOrder": 50,
    "_isFastLaunch": false,
    "category": "Accelerated computing",
    "gpuNum": 1,
    "hideHardwareSpecs": false,
    "memoryGiB": 128,
    "name": "ml.g5.8xlarge",
    "vcpuNum": 32
   },
   {
    "_defaultOrder": 51,
    "_isFastLaunch": false,
    "category": "Accelerated computing",
    "gpuNum": 1,
    "hideHardwareSpecs": false,
    "memoryGiB": 256,
    "name": "ml.g5.16xlarge",
    "vcpuNum": 64
   },
   {
    "_defaultOrder": 52,
    "_isFastLaunch": false,
    "category": "Accelerated computing",
    "gpuNum": 4,
    "hideHardwareSpecs": false,
    "memoryGiB": 192,
    "name": "ml.g5.12xlarge",
    "vcpuNum": 48
   },
   {
    "_defaultOrder": 53,
    "_isFastLaunch": false,
    "category": "Accelerated computing",
    "gpuNum": 4,
    "hideHardwareSpecs": false,
    "memoryGiB": 384,
    "name": "ml.g5.24xlarge",
    "vcpuNum": 96
   },
   {
    "_defaultOrder": 54,
    "_isFastLaunch": false,
    "category": "Accelerated computing",
    "gpuNum": 8,
    "hideHardwareSpecs": false,
    "memoryGiB": 768,
    "name": "ml.g5.48xlarge",
    "vcpuNum": 192
   },
   {
    "_defaultOrder": 55,
    "_isFastLaunch": false,
    "category": "Accelerated computing",
    "gpuNum": 8,
    "hideHardwareSpecs": false,
    "memoryGiB": 1152,
    "name": "ml.p4d.24xlarge",
    "vcpuNum": 96
   },
   {
    "_defaultOrder": 56,
    "_isFastLaunch": false,
    "category": "Accelerated computing",
    "gpuNum": 8,
    "hideHardwareSpecs": false,
    "memoryGiB": 1152,
    "name": "ml.p4de.24xlarge",
    "vcpuNum": 96
   }
  ],
  "instance_type": "ml.t3.medium",
  "kernelspec": {
   "display_name": "Python 3 (Data Science)",
   "language": "python",
   "name": "python3__SAGEMAKER_INTERNAL__arn:aws:sagemaker:ap-southeast-1:492261229750:image/datascience-1.0"
  },
  "language_info": {
   "codemirror_mode": {
    "name": "ipython",
    "version": 3
   },
   "file_extension": ".py",
   "mimetype": "text/x-python",
   "name": "python",
   "nbconvert_exporter": "python",
   "pygments_lexer": "ipython3",
   "version": "3.7.10"
  }
 },
 "nbformat": 4,
 "nbformat_minor": 5
}
