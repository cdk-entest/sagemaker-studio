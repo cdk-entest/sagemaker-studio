{
 "cells": [
  {
   "cell_type": "markdown",
   "id": "d3c74901-4247-408b-87ac-802d3fc68fd8",
   "metadata": {},
   "source": [
    "## Explain How SageMaker Calculate Bias Metric Pre-Training \n",
    "haimtran June 09 2023\n",
    "\n",
    "- Hand calculate bias metrics: CI, DPL, KL, JS\n",
    "- Compare with Wrangler Bias Report"
   ]
  },
  {
   "cell_type": "code",
   "execution_count": 106,
   "id": "09894f2e-f442-4b9c-af2f-d1877d5e79b2",
   "metadata": {
    "tags": []
   },
   "outputs": [],
   "source": [
    "import boto3\n",
    "import matplotlib.pyplot as plt\n",
    "import numpy as np\n",
    "import pandas as pd\n",
    "import sagemaker\n",
    "from IPython.display import Markdown, display"
   ]
  },
  {
   "cell_type": "markdown",
   "id": "0ba0aa48-c7d1-4ebe-9bd0-0cd049c1086a",
   "metadata": {},
   "source": [
    "## SageMaker Session"
   ]
  },
  {
   "cell_type": "code",
   "execution_count": 3,
   "id": "e00a21c0-7837-4f14-ad27-f7d05f80c731",
   "metadata": {
    "tags": []
   },
   "outputs": [],
   "source": [
    "role = sagemaker.get_execution_role()"
   ]
  },
  {
   "cell_type": "code",
   "execution_count": 4,
   "id": "079c046b-dbbb-41fb-bdc3-eef8860b449b",
   "metadata": {
    "tags": []
   },
   "outputs": [],
   "source": [
    "session = sagemaker.session.Session()"
   ]
  },
  {
   "cell_type": "code",
   "execution_count": 5,
   "id": "33f2cf26-3712-4f03-892d-af123846419f",
   "metadata": {
    "tags": []
   },
   "outputs": [],
   "source": [
    "bucket = session.default_bucket()"
   ]
  },
  {
   "cell_type": "markdown",
   "id": "10da7c38-53ea-4f52-9f93-d94b0e119cff",
   "metadata": {},
   "source": [
    "## Upload Data to S3 for Wrangler "
   ]
  },
  {
   "cell_type": "code",
   "execution_count": 32,
   "id": "3f5e9124-4b1f-4682-b02e-39e0e7bef999",
   "metadata": {
    "tags": []
   },
   "outputs": [],
   "source": [
    "local_file_path = \"./../../data/bank-additional/bank-additional-full.csv\""
   ]
  },
  {
   "cell_type": "code",
   "execution_count": 30,
   "id": "ed461b7f-e897-4cf6-b6f4-682ab700dfd8",
   "metadata": {
    "tags": []
   },
   "outputs": [],
   "source": [
    "s3_client = boto3.client(\"s3\")"
   ]
  },
  {
   "cell_type": "code",
   "execution_count": 33,
   "id": "b367d6b2-c899-4baf-a585-9a259aac43d2",
   "metadata": {
    "tags": []
   },
   "outputs": [],
   "source": [
    "s3_client.upload_file(\n",
    "    local_file_path,\n",
    "    bucket,\n",
    "    \"bank/bank-additional-full.csv\",\n",
    ")"
   ]
  },
  {
   "cell_type": "markdown",
   "id": "777cc8bb-c156-4c26-be70-55864eb05ebe",
   "metadata": {},
   "source": [
    "## Load Data "
   ]
  },
  {
   "cell_type": "code",
   "execution_count": 6,
   "id": "72445a1f-95ad-40a3-b04d-42db45b178cb",
   "metadata": {
    "tags": []
   },
   "outputs": [],
   "source": [
    "pd.options.display.max_columns = 300"
   ]
  },
  {
   "cell_type": "code",
   "execution_count": 34,
   "id": "cb4109a8-092a-4404-847c-5e348ca1a021",
   "metadata": {
    "tags": []
   },
   "outputs": [],
   "source": [
    "df = pd.read_csv(local_file_path)"
   ]
  },
  {
   "cell_type": "code",
   "execution_count": 8,
   "id": "367e469f-b02f-4e30-aebb-5b87fdb1a315",
   "metadata": {
    "scrolled": true,
    "tags": []
   },
   "outputs": [
    {
     "data": {
      "text/html": [
       "<div>\n",
       "<style scoped>\n",
       "    .dataframe tbody tr th:only-of-type {\n",
       "        vertical-align: middle;\n",
       "    }\n",
       "\n",
       "    .dataframe tbody tr th {\n",
       "        vertical-align: top;\n",
       "    }\n",
       "\n",
       "    .dataframe thead th {\n",
       "        text-align: right;\n",
       "    }\n",
       "</style>\n",
       "<table border=\"1\" class=\"dataframe\">\n",
       "  <thead>\n",
       "    <tr style=\"text-align: right;\">\n",
       "      <th></th>\n",
       "      <th>age</th>\n",
       "      <th>job</th>\n",
       "      <th>marital</th>\n",
       "      <th>education</th>\n",
       "      <th>default</th>\n",
       "      <th>housing</th>\n",
       "      <th>loan</th>\n",
       "      <th>contact</th>\n",
       "      <th>month</th>\n",
       "      <th>day_of_week</th>\n",
       "      <th>duration</th>\n",
       "      <th>campaign</th>\n",
       "      <th>pdays</th>\n",
       "      <th>previous</th>\n",
       "      <th>poutcome</th>\n",
       "      <th>emp.var.rate</th>\n",
       "      <th>cons.price.idx</th>\n",
       "      <th>cons.conf.idx</th>\n",
       "      <th>euribor3m</th>\n",
       "      <th>nr.employed</th>\n",
       "      <th>y</th>\n",
       "    </tr>\n",
       "  </thead>\n",
       "  <tbody>\n",
       "    <tr>\n",
       "      <th>0</th>\n",
       "      <td>56</td>\n",
       "      <td>housemaid</td>\n",
       "      <td>married</td>\n",
       "      <td>basic.4y</td>\n",
       "      <td>no</td>\n",
       "      <td>no</td>\n",
       "      <td>no</td>\n",
       "      <td>telephone</td>\n",
       "      <td>may</td>\n",
       "      <td>mon</td>\n",
       "      <td>261</td>\n",
       "      <td>1</td>\n",
       "      <td>999</td>\n",
       "      <td>0</td>\n",
       "      <td>nonexistent</td>\n",
       "      <td>1.1</td>\n",
       "      <td>93.994</td>\n",
       "      <td>-36.4</td>\n",
       "      <td>4.857</td>\n",
       "      <td>5191.0</td>\n",
       "      <td>no</td>\n",
       "    </tr>\n",
       "    <tr>\n",
       "      <th>1</th>\n",
       "      <td>57</td>\n",
       "      <td>services</td>\n",
       "      <td>married</td>\n",
       "      <td>high.school</td>\n",
       "      <td>unknown</td>\n",
       "      <td>no</td>\n",
       "      <td>no</td>\n",
       "      <td>telephone</td>\n",
       "      <td>may</td>\n",
       "      <td>mon</td>\n",
       "      <td>149</td>\n",
       "      <td>1</td>\n",
       "      <td>999</td>\n",
       "      <td>0</td>\n",
       "      <td>nonexistent</td>\n",
       "      <td>1.1</td>\n",
       "      <td>93.994</td>\n",
       "      <td>-36.4</td>\n",
       "      <td>4.857</td>\n",
       "      <td>5191.0</td>\n",
       "      <td>no</td>\n",
       "    </tr>\n",
       "    <tr>\n",
       "      <th>2</th>\n",
       "      <td>37</td>\n",
       "      <td>services</td>\n",
       "      <td>married</td>\n",
       "      <td>high.school</td>\n",
       "      <td>no</td>\n",
       "      <td>yes</td>\n",
       "      <td>no</td>\n",
       "      <td>telephone</td>\n",
       "      <td>may</td>\n",
       "      <td>mon</td>\n",
       "      <td>226</td>\n",
       "      <td>1</td>\n",
       "      <td>999</td>\n",
       "      <td>0</td>\n",
       "      <td>nonexistent</td>\n",
       "      <td>1.1</td>\n",
       "      <td>93.994</td>\n",
       "      <td>-36.4</td>\n",
       "      <td>4.857</td>\n",
       "      <td>5191.0</td>\n",
       "      <td>no</td>\n",
       "    </tr>\n",
       "    <tr>\n",
       "      <th>3</th>\n",
       "      <td>40</td>\n",
       "      <td>admin.</td>\n",
       "      <td>married</td>\n",
       "      <td>basic.6y</td>\n",
       "      <td>no</td>\n",
       "      <td>no</td>\n",
       "      <td>no</td>\n",
       "      <td>telephone</td>\n",
       "      <td>may</td>\n",
       "      <td>mon</td>\n",
       "      <td>151</td>\n",
       "      <td>1</td>\n",
       "      <td>999</td>\n",
       "      <td>0</td>\n",
       "      <td>nonexistent</td>\n",
       "      <td>1.1</td>\n",
       "      <td>93.994</td>\n",
       "      <td>-36.4</td>\n",
       "      <td>4.857</td>\n",
       "      <td>5191.0</td>\n",
       "      <td>no</td>\n",
       "    </tr>\n",
       "    <tr>\n",
       "      <th>4</th>\n",
       "      <td>56</td>\n",
       "      <td>services</td>\n",
       "      <td>married</td>\n",
       "      <td>high.school</td>\n",
       "      <td>no</td>\n",
       "      <td>no</td>\n",
       "      <td>yes</td>\n",
       "      <td>telephone</td>\n",
       "      <td>may</td>\n",
       "      <td>mon</td>\n",
       "      <td>307</td>\n",
       "      <td>1</td>\n",
       "      <td>999</td>\n",
       "      <td>0</td>\n",
       "      <td>nonexistent</td>\n",
       "      <td>1.1</td>\n",
       "      <td>93.994</td>\n",
       "      <td>-36.4</td>\n",
       "      <td>4.857</td>\n",
       "      <td>5191.0</td>\n",
       "      <td>no</td>\n",
       "    </tr>\n",
       "  </tbody>\n",
       "</table>\n",
       "</div>"
      ],
      "text/plain": [
       "   age        job  marital    education  default housing loan    contact  \\\n",
       "0   56  housemaid  married     basic.4y       no      no   no  telephone   \n",
       "1   57   services  married  high.school  unknown      no   no  telephone   \n",
       "2   37   services  married  high.school       no     yes   no  telephone   \n",
       "3   40     admin.  married     basic.6y       no      no   no  telephone   \n",
       "4   56   services  married  high.school       no      no  yes  telephone   \n",
       "\n",
       "  month day_of_week  duration  campaign  pdays  previous     poutcome  \\\n",
       "0   may         mon       261         1    999         0  nonexistent   \n",
       "1   may         mon       149         1    999         0  nonexistent   \n",
       "2   may         mon       226         1    999         0  nonexistent   \n",
       "3   may         mon       151         1    999         0  nonexistent   \n",
       "4   may         mon       307         1    999         0  nonexistent   \n",
       "\n",
       "   emp.var.rate  cons.price.idx  cons.conf.idx  euribor3m  nr.employed   y  \n",
       "0           1.1          93.994          -36.4      4.857       5191.0  no  \n",
       "1           1.1          93.994          -36.4      4.857       5191.0  no  \n",
       "2           1.1          93.994          -36.4      4.857       5191.0  no  \n",
       "3           1.1          93.994          -36.4      4.857       5191.0  no  \n",
       "4           1.1          93.994          -36.4      4.857       5191.0  no  "
      ]
     },
     "execution_count": 8,
     "metadata": {},
     "output_type": "execute_result"
    }
   ],
   "source": [
    "df.head()"
   ]
  },
  {
   "cell_type": "code",
   "execution_count": 9,
   "id": "912fb9d5-cdbf-4d74-b8e2-05541d00d2d5",
   "metadata": {
    "tags": []
   },
   "outputs": [
    {
     "data": {
      "text/plain": [
       "age                 int64\n",
       "job                object\n",
       "marital            object\n",
       "education          object\n",
       "default            object\n",
       "housing            object\n",
       "loan               object\n",
       "contact            object\n",
       "month              object\n",
       "day_of_week        object\n",
       "duration            int64\n",
       "campaign            int64\n",
       "pdays               int64\n",
       "previous            int64\n",
       "poutcome           object\n",
       "emp.var.rate      float64\n",
       "cons.price.idx    float64\n",
       "cons.conf.idx     float64\n",
       "euribor3m         float64\n",
       "nr.employed       float64\n",
       "y                  object\n",
       "dtype: object"
      ]
     },
     "execution_count": 9,
     "metadata": {},
     "output_type": "execute_result"
    }
   ],
   "source": [
    "df.dtypes"
   ]
  },
  {
   "cell_type": "markdown",
   "id": "551b0077-2449-46b6-a39a-0477de81e366",
   "metadata": {},
   "source": [
    "## Marital Comlumn - Feature "
   ]
  },
  {
   "cell_type": "code",
   "execution_count": 16,
   "id": "6d02d964-849a-4d0f-a0ac-6e029602157c",
   "metadata": {
    "tags": []
   },
   "outputs": [],
   "source": [
    "marital = df.value_counts(\"marital\")"
   ]
  },
  {
   "cell_type": "code",
   "execution_count": 17,
   "id": "35aaa072-ab9a-488e-8f8a-de19428adeaa",
   "metadata": {
    "tags": []
   },
   "outputs": [
    {
     "data": {
      "text/plain": [
       "marital\n",
       "married     24928\n",
       "single      11568\n",
       "divorced     4612\n",
       "unknown        80\n",
       "dtype: int64"
      ]
     },
     "execution_count": 17,
     "metadata": {},
     "output_type": "execute_result"
    }
   ],
   "source": [
    "marital"
   ]
  },
  {
   "cell_type": "code",
   "execution_count": 18,
   "id": "74d2150d-eb9b-4e33-ba61-27e52b6c34f4",
   "metadata": {
    "tags": []
   },
   "outputs": [
    {
     "data": {
      "image/png": "[encoded data removed]",
      "text/plain": [
       "<Figure size 640x480 with 1 Axes>"
      ]
     },
     "metadata": {},
     "output_type": "display_data"
    }
   ],
   "source": [
    "df.value_counts([\"marital\"]).plot.bar()\n",
    "plt.show()"
   ]
  },
  {
   "cell_type": "markdown",
   "id": "7f2a4c42-2229-42eb-a7b0-063c517533fc",
   "metadata": {},
   "source": [
    "## Class Imbalance - CI\n",
    "\n",
    "Here is the [docs](https://docs.aws.amazon.com/sagemaker/latest/dg/clarify-bias-metric-class-imbalance.html)\n",
    "\n",
    "## $$ CI = \\frac{n_a - n_d}{n_a + n_d}$$\n",
    "\n",
    "- $n_a$ is the number of facet a ==> no. of maried \n",
    "- $n_d$ is the number of facet b ==> no. of no married "
   ]
  },
  {
   "cell_type": "code",
   "execution_count": 24,
   "id": "2464777f-2011-4e43-ada5-617bd1c0a865",
   "metadata": {
    "tags": []
   },
   "outputs": [],
   "source": [
    "n_a = len(df[df[\"marital\"] == \"married\"])"
   ]
  },
  {
   "cell_type": "code",
   "execution_count": 25,
   "id": "7105355c-ef62-4770-83fe-60a0cd7e7a28",
   "metadata": {
    "tags": []
   },
   "outputs": [],
   "source": [
    "n_b = len(df[df[\"marital\"] != \"married\"])"
   ]
  },
  {
   "cell_type": "code",
   "execution_count": 26,
   "id": "6d924453-a336-4675-9169-d02b2b697a23",
   "metadata": {
    "tags": []
   },
   "outputs": [],
   "source": [
    "ci = (n_a - n_b) / (n_a + n_b)"
   ]
  },
  {
   "cell_type": "code",
   "execution_count": 80,
   "id": "6a2f5381-3e25-48ce-8ea1-9738d2938c37",
   "metadata": {
    "tags": []
   },
   "outputs": [],
   "source": [
    "# print(f\"class imbalanced facet married: {ci}\")"
   ]
  },
  {
   "cell_type": "code",
   "execution_count": 206,
   "id": "d6087391-1650-4403-a2af-87bcd62467d2",
   "metadata": {
    "tags": []
   },
   "outputs": [
    {
     "data": {
      "text/markdown": [
       "### class imbalanced facet married: 0.2104496455"
      ],
      "text/plain": [
       "<IPython.core.display.Markdown object>"
      ]
     },
     "metadata": {},
     "output_type": "display_data"
    }
   ],
   "source": [
    "display(Markdown(f\"### class imbalanced facet married: {ci:.10f}\"))"
   ]
  },
  {
   "cell_type": "markdown",
   "id": "00ab5161-1dc9-4527-ab5f-4aa68d9c4771",
   "metadata": {},
   "source": [
    "## Difference in Positive Proportions in Labels (DPL)\n",
    "\n",
    "## $$ q_a = \\frac{n_a^{(1)}}{n_a}, q_b = \\frac{n_d^{(1)}}{n_d} $$\n",
    "## $$ DPL = (q_a - q_b) $$\n",
    "\n",
    "- $n_a^{(1)}$ is the number of facet a given positive label ==> no. married and y = 1\n",
    "- $n_d^{(1)}$ is the number of facet d given positive label ==> no. not married and y = 1"
   ]
  },
  {
   "cell_type": "code",
   "execution_count": 65,
   "id": "eca377bb-0008-4a23-b8a5-8f1b56c26d2c",
   "metadata": {
    "tags": []
   },
   "outputs": [],
   "source": [
    "n_a = len(df[df[\"marital\"] == \"married\"])"
   ]
  },
  {
   "cell_type": "code",
   "execution_count": 66,
   "id": "e5bd35c2-1ed2-4947-87ae-ead0bb61b0ea",
   "metadata": {
    "tags": []
   },
   "outputs": [],
   "source": [
    "n_a_1 = len(df[(df[\"marital\"] == \"married\") & (df[\"y\"] == \"yes\")])"
   ]
  },
  {
   "cell_type": "code",
   "execution_count": 67,
   "id": "85ff8e39-e8b8-44cb-8c15-438d07a60f38",
   "metadata": {
    "tags": []
   },
   "outputs": [],
   "source": [
    "n_d = len(df[df[\"marital\"] != \"married\"])"
   ]
  },
  {
   "cell_type": "code",
   "execution_count": 68,
   "id": "e49c8b87-c67d-46f7-9088-98b0c0425a8f",
   "metadata": {
    "tags": []
   },
   "outputs": [],
   "source": [
    "n_d_1 = len(df[(df[\"marital\"] != \"married\") & (df[\"y\"] == \"yes\")])"
   ]
  },
  {
   "cell_type": "code",
   "execution_count": 69,
   "id": "194149e9-a1b1-4c36-87a0-06b7b9fd4e97",
   "metadata": {
    "tags": []
   },
   "outputs": [],
   "source": [
    "q_a = n_a_1 / n_a"
   ]
  },
  {
   "cell_type": "code",
   "execution_count": 70,
   "id": "5d27ad08-0e9c-4a59-9b0f-6de07877e53f",
   "metadata": {
    "tags": []
   },
   "outputs": [],
   "source": [
    "q_b = n_d_1 / n_d"
   ]
  },
  {
   "cell_type": "code",
   "execution_count": 71,
   "id": "28b204d9-cee2-4d44-b6bf-49687032c476",
   "metadata": {
    "tags": []
   },
   "outputs": [],
   "source": [
    "dpl = q_a - q_b"
   ]
  },
  {
   "cell_type": "code",
   "execution_count": 85,
   "id": "cefeca29-d469-44db-bcba-8af6a292c6c0",
   "metadata": {
    "tags": []
   },
   "outputs": [],
   "source": [
    "# dpl"
   ]
  },
  {
   "cell_type": "code",
   "execution_count": 207,
   "id": "dc05bdc1-ff58-436f-bbe4-a4a4f311c194",
   "metadata": {
    "tags": []
   },
   "outputs": [
    {
     "data": {
      "text/markdown": [
       "### Difference in Positive Proportions in Labels: -0.0280707675"
      ],
      "text/plain": [
       "<IPython.core.display.Markdown object>"
      ]
     },
     "metadata": {},
     "output_type": "display_data"
    }
   ],
   "source": [
    "display(Markdown(f\"### Difference in Positive Proportions in Labels: {dpl:.10f}\"))"
   ]
  },
  {
   "cell_type": "markdown",
   "id": "1741407e-8400-4cb8-a46c-ca8ee62d5fff",
   "metadata": {},
   "source": [
    "## Kullback-Leibler Divergence (KL)\n",
    "\n",
    "## $$ KL = \\sum_y P_a(y)log{\\frac{P_a(y)}{P_d(y)}}$$"
   ]
  },
  {
   "cell_type": "code",
   "execution_count": 155,
   "id": "7419f5bc-ec7d-4c79-ac4c-a4d7486cbda5",
   "metadata": {
    "tags": []
   },
   "outputs": [],
   "source": [
    "p_positive_given_a = len(df[(df[\"marital\"] == \"married\") & (df[\"y\"] == \"yes\")]) / n_a"
   ]
  },
  {
   "cell_type": "code",
   "execution_count": 156,
   "id": "19301839-4b1d-4064-8c03-190690916acb",
   "metadata": {
    "tags": []
   },
   "outputs": [],
   "source": [
    "p_positive_given_d = len(df[(df[\"marital\"] != \"married\") & (df[\"y\"] == \"yes\")]) / n_d"
   ]
  },
  {
   "cell_type": "code",
   "execution_count": 157,
   "id": "eb7e90e3-8a60-4944-983c-89cdff8d990d",
   "metadata": {
    "tags": []
   },
   "outputs": [],
   "source": [
    "p_negative_given_a = len(df[(df[\"marital\"] == \"married\") & (df[\"y\"] == \"no\")]) / n_a"
   ]
  },
  {
   "cell_type": "code",
   "execution_count": 158,
   "id": "6dcf75e5-f42a-4265-9621-ecd3f03d56b5",
   "metadata": {
    "tags": []
   },
   "outputs": [],
   "source": [
    "p_negative_given_d = len(df[(df[\"marital\"] != \"married\") & (df[\"y\"] == \"no\")]) / n_d"
   ]
  },
  {
   "cell_type": "code",
   "execution_count": 210,
   "id": "dcfcca94-11ce-4761-b4bd-12e4bc611355",
   "metadata": {
    "tags": []
   },
   "outputs": [],
   "source": [
    "kl = p_positive_given_a * np.log(p_positive_given_a / p_positive_given_d)+p_negative_given_a * np.log(p_negative_given_a / p_negative_given_d)"
   ]
  },
  {
   "cell_type": "code",
   "execution_count": 211,
   "id": "8362d293-5b9a-48eb-8526-4cb41f098f8d",
   "metadata": {
    "tags": []
   },
   "outputs": [
    {
     "data": {
      "text/markdown": [
       "### KL Divergence: 0.0037335598"
      ],
      "text/plain": [
       "<IPython.core.display.Markdown object>"
      ]
     },
     "metadata": {},
     "output_type": "display_data"
    }
   ],
   "source": [
    "display(Markdown(f\"### KL Divergence: {kl:.10f}\"))"
   ]
  },
  {
   "cell_type": "markdown",
   "id": "569168fc-0a04-4503-ae25-137b63233f70",
   "metadata": {
    "tags": []
   },
   "source": [
    "## Jessen Shannon\n",
    "\n",
    "## $$ JS = \\frac{1}{2}[LK(P_a || P) + KL(P_d || P)]  $$\n",
    "\n",
    "## $$ P = \\frac{1}{2}(P_a + P_d)$$"
   ]
  },
  {
   "cell_type": "code",
   "execution_count": 221,
   "id": "2b3c4c32-0986-467a-b31f-b5d3291f7565",
   "metadata": {
    "tags": []
   },
   "outputs": [],
   "source": [
    "p_positive_given_a = len(df[(df[\"marital\"] == \"married\") & (df[\"y\"] == \"yes\")]) / n_a"
   ]
  },
  {
   "cell_type": "code",
   "execution_count": 222,
   "id": "04c5672a-3bd5-4352-89c6-31a750fe3349",
   "metadata": {
    "tags": []
   },
   "outputs": [],
   "source": [
    "p_positive_given_d = len(df[(df[\"marital\"] != \"married\") & (df[\"y\"] == \"yes\")]) / n_d"
   ]
  },
  {
   "cell_type": "code",
   "execution_count": 223,
   "id": "47b994e4-92c1-4fae-8967-12ecfb4c4977",
   "metadata": {
    "tags": []
   },
   "outputs": [],
   "source": [
    "p_negative_given_a = len(df[(df[\"marital\"] == \"married\") & (df[\"y\"] == \"no\")]) / n_a"
   ]
  },
  {
   "cell_type": "code",
   "execution_count": 224,
   "id": "26872892-eb21-4b57-aa64-f12158401e9d",
   "metadata": {
    "tags": []
   },
   "outputs": [],
   "source": [
    "p_negative_given_d = len(df[(df[\"marital\"] != \"married\") & (df[\"y\"] == \"no\")]) / n_d"
   ]
  },
  {
   "cell_type": "code",
   "execution_count": 225,
   "id": "12a4584d-e9ec-45eb-bf38-2feebb44a95a",
   "metadata": {
    "tags": []
   },
   "outputs": [],
   "source": [
    "p_positive = 0.5 * (p_positive_given_a + p_positive_given_d)"
   ]
  },
  {
   "cell_type": "code",
   "execution_count": 226,
   "id": "1d8defe6-bd87-4322-bd80-98d314e70636",
   "metadata": {
    "tags": []
   },
   "outputs": [],
   "source": [
    "p_negative = 0.5 * (p_negative_given_a + p_negative_given_d)"
   ]
  },
  {
   "cell_type": "code",
   "execution_count": 227,
   "id": "498347b5-6d51-4750-be33-00091ae33f1d",
   "metadata": {
    "tags": []
   },
   "outputs": [],
   "source": [
    "item_1 = p_positive_given_a * np.log(p_positive_given_a / p_positive) + p_negative_given_a * np.log(p_negative_given_a / p_negative)"
   ]
  },
  {
   "cell_type": "code",
   "execution_count": 228,
   "id": "1a502302-7ed1-4e4c-9c4f-8bc14eb1de45",
   "metadata": {
    "tags": []
   },
   "outputs": [],
   "source": [
    "item_2 = p_positive_given_d * np.log(p_positive_given_d / p_positive) + p_negative_given_d * np.log(p_negative_given_d / p_negative)"
   ]
  },
  {
   "cell_type": "code",
   "execution_count": 229,
   "id": "dacff160-3165-406e-9e55-3a5c64d5bb14",
   "metadata": {
    "tags": []
   },
   "outputs": [],
   "source": [
    "js = 0.5*(item_1 + item_2)"
   ]
  },
  {
   "cell_type": "code",
   "execution_count": 230,
   "id": "b5cd76aa-8a55-46d5-981c-9d435eeccafd",
   "metadata": {
    "tags": []
   },
   "outputs": [
    {
     "data": {
      "text/markdown": [
       "### Jessen Shannon Divergence: 0.0009654646"
      ],
      "text/plain": [
       "<IPython.core.display.Markdown object>"
      ]
     },
     "metadata": {},
     "output_type": "display_data"
    }
   ],
   "source": [
    "display(Markdown(f\"### Jessen Shannon Divergence: {js:.10f}\"))"
   ]
  }
 ],
 "metadata": {
  "availableInstances": [
   {
    "_defaultOrder": 0,
    "_isFastLaunch": true,
    "category": "General purpose",
    "gpuNum": 0,
    "hideHardwareSpecs": false,
    "memoryGiB": 4,
    "name": "ml.t3.medium",
    "vcpuNum": 2
   },
   {
    "_defaultOrder": 1,
    "_isFastLaunch": false,
    "category": "General purpose",
    "gpuNum": 0,
    "hideHardwareSpecs": false,
    "memoryGiB": 8,
    "name": "ml.t3.large",
    "vcpuNum": 2
   },
   {
    "_defaultOrder": 2,
    "_isFastLaunch": false,
    "category": "General purpose",
    "gpuNum": 0,
    "hideHardwareSpecs": false,
    "memoryGiB": 16,
    "name": "ml.t3.xlarge",
    "vcpuNum": 4
   },
   {
    "_defaultOrder": 3,
    "_isFastLaunch": false,
    "category": "General purpose",
    "gpuNum": 0,
    "hideHardwareSpecs": false,
    "memoryGiB": 32,
    "name": "ml.t3.2xlarge",
    "vcpuNum": 8
   },
   {
    "_defaultOrder": 4,
    "_isFastLaunch": true,
    "category": "General purpose",
    "gpuNum": 0,
    "hideHardwareSpecs": false,
    "memoryGiB": 8,
    "name": "ml.m5.large",
    "vcpuNum": 2
   },
   {
    "_defaultOrder": 5,
    "_isFastLaunch": false,
    "category": "General purpose",
    "gpuNum": 0,
    "hideHardwareSpecs": false,
    "memoryGiB": 16,
    "name": "ml.m5.xlarge",
    "vcpuNum": 4
   },
   {
    "_defaultOrder": 6,
    "_isFastLaunch": false,
    "category": "General purpose",
    "gpuNum": 0,
    "hideHardwareSpecs": false,
    "memoryGiB": 32,
    "name": "ml.m5.2xlarge",
    "vcpuNum": 8
   },
   {
    "_defaultOrder": 7,
    "_isFastLaunch": false,
    "category": "General purpose",
    "gpuNum": 0,
    "hideHardwareSpecs": false,
    "memoryGiB": 64,
    "name": "ml.m5.4xlarge",
    "vcpuNum": 16
   },
   {
    "_defaultOrder": 8,
    "_isFastLaunch": false,
    "category": "General purpose",
    "gpuNum": 0,
    "hideHardwareSpecs": false,
    "memoryGiB": 128,
    "name": "ml.m5.8xlarge",
    "vcpuNum": 32
   },
   {
    "_defaultOrder": 9,
    "_isFastLaunch": false,
    "category": "General purpose",
    "gpuNum": 0,
    "hideHardwareSpecs": false,
    "memoryGiB": 192,
    "name": "ml.m5.12xlarge",
    "vcpuNum": 48
   },
   {
    "_defaultOrder": 10,
    "_isFastLaunch": false,
    "category": "General purpose",
    "gpuNum": 0,
    "hideHardwareSpecs": false,
    "memoryGiB": 256,
    "name": "ml.m5.16xlarge",
    "vcpuNum": 64
   },
   {
    "_defaultOrder": 11,
    "_isFastLaunch": false,
    "category": "General purpose",
    "gpuNum": 0,
    "hideHardwareSpecs": false,
    "memoryGiB": 384,
    "name": "ml.m5.24xlarge",
    "vcpuNum": 96
   },
   {
    "_defaultOrder": 12,
    "_isFastLaunch": false,
    "category": "General purpose",
    "gpuNum": 0,
    "hideHardwareSpecs": false,
    "memoryGiB": 8,
    "name": "ml.m5d.large",
    "vcpuNum": 2
   },
   {
    "_defaultOrder": 13,
    "_isFastLaunch": false,
    "category": "General purpose",
    "gpuNum": 0,
    "hideHardwareSpecs": false,
    "memoryGiB": 16,
    "name": "ml.m5d.xlarge",
    "vcpuNum": 4
   },
   {
    "_defaultOrder": 14,
    "_isFastLaunch": false,
    "category": "General purpose",
    "gpuNum": 0,
    "hideHardwareSpecs": false,
    "memoryGiB": 32,
    "name": "ml.m5d.2xlarge",
    "vcpuNum": 8
   },
   {
    "_defaultOrder": 15,
    "_isFastLaunch": false,
    "category": "General purpose",
    "gpuNum": 0,
    "hideHardwareSpecs": false,
    "memoryGiB": 64,
    "name": "ml.m5d.4xlarge",
    "vcpuNum": 16
   },
   {
    "_defaultOrder": 16,
    "_isFastLaunch": false,
    "category": "General purpose",
    "gpuNum": 0,
    "hideHardwareSpecs": false,
    "memoryGiB": 128,
    "name": "ml.m5d.8xlarge",
    "vcpuNum": 32
   },
   {
    "_defaultOrder": 17,
    "_isFastLaunch": false,
    "category": "General purpose",
    "gpuNum": 0,
    "hideHardwareSpecs": false,
    "memoryGiB": 192,
    "name": "ml.m5d.12xlarge",
    "vcpuNum": 48
   },
   {
    "_defaultOrder": 18,
    "_isFastLaunch": false,
    "category": "General purpose",
    "gpuNum": 0,
    "hideHardwareSpecs": false,
    "memoryGiB": 256,
    "name": "ml.m5d.16xlarge",
    "vcpuNum": 64
   },
   {
    "_defaultOrder": 19,
    "_isFastLaunch": false,
    "category": "General purpose",
    "gpuNum": 0,
    "hideHardwareSpecs": false,
    "memoryGiB": 384,
    "name": "ml.m5d.24xlarge",
    "vcpuNum": 96
   },
   {
    "_defaultOrder": 20,
    "_isFastLaunch": false,
    "category": "General purpose",
    "gpuNum": 0,
    "hideHardwareSpecs": true,
    "memoryGiB": 0,
    "name": "ml.geospatial.interactive",
    "supportedImageNames": [
     "sagemaker-geospatial-v1-0"
    ],
    "vcpuNum": 0
   },
   {
    "_defaultOrder": 21,
    "_isFastLaunch": true,
    "category": "Compute optimized",
    "gpuNum": 0,
    "hideHardwareSpecs": false,
    "memoryGiB": 4,
    "name": "ml.c5.large",
    "vcpuNum": 2
   },
   {
    "_defaultOrder": 22,
    "_isFastLaunch": false,
    "category": "Compute optimized",
    "gpuNum": 0,
    "hideHardwareSpecs": false,
    "memoryGiB": 8,
    "name": "ml.c5.xlarge",
    "vcpuNum": 4
   },
   {
    "_defaultOrder": 23,
    "_isFastLaunch": false,
    "category": "Compute optimized",
    "gpuNum": 0,
    "hideHardwareSpecs": false,
    "memoryGiB": 16,
    "name": "ml.c5.2xlarge",
    "vcpuNum": 8
   },
   {
    "_defaultOrder": 24,
    "_isFastLaunch": false,
    "category": "Compute optimized",
    "gpuNum": 0,
    "hideHardwareSpecs": false,
    "memoryGiB": 32,
    "name": "ml.c5.4xlarge",
    "vcpuNum": 16
   },
   {
    "_defaultOrder": 25,
    "_isFastLaunch": false,
    "category": "Compute optimized",
    "gpuNum": 0,
    "hideHardwareSpecs": false,
    "memoryGiB": 72,
    "name": "ml.c5.9xlarge",
    "vcpuNum": 36
   },
   {
    "_defaultOrder": 26,
    "_isFastLaunch": false,
    "category": "Compute optimized",
    "gpuNum": 0,
    "hideHardwareSpecs": false,
    "memoryGiB": 96,
    "name": "ml.c5.12xlarge",
    "vcpuNum": 48
   },
   {
    "_defaultOrder": 27,
    "_isFastLaunch": false,
    "category": "Compute optimized",
    "gpuNum": 0,
    "hideHardwareSpecs": false,
    "memoryGiB": 144,
    "name": "ml.c5.18xlarge",
    "vcpuNum": 72
   },
   {
    "_defaultOrder": 28,
    "_isFastLaunch": false,
    "category": "Compute optimized",
    "gpuNum": 0,
    "hideHardwareSpecs": false,
    "memoryGiB": 192,
    "name": "ml.c5.24xlarge",
    "vcpuNum": 96
   },
   {
    "_defaultOrder": 29,
    "_isFastLaunch": true,
    "category": "Accelerated computing",
    "gpuNum": 1,
    "hideHardwareSpecs": false,
    "memoryGiB": 16,
    "name": "ml.g4dn.xlarge",
    "vcpuNum": 4
   },
   {
    "_defaultOrder": 30,
    "_isFastLaunch": false,
    "category": "Accelerated computing",
    "gpuNum": 1,
    "hideHardwareSpecs": false,
    "memoryGiB": 32,
    "name": "ml.g4dn.2xlarge",
    "vcpuNum": 8
   },
   {
    "_defaultOrder": 31,
    "_isFastLaunch": false,
    "category": "Accelerated computing",
    "gpuNum": 1,
    "hideHardwareSpecs": false,
    "memoryGiB": 64,
    "name": "ml.g4dn.4xlarge",
    "vcpuNum": 16
   },
   {
    "_defaultOrder": 32,
    "_isFastLaunch": false,
    "category": "Accelerated computing",
    "gpuNum": 1,
    "hideHardwareSpecs": false,
    "memoryGiB": 128,
    "name": "ml.g4dn.8xlarge",
    "vcpuNum": 32
   },
   {
    "_defaultOrder": 33,
    "_isFastLaunch": false,
    "category": "Accelerated computing",
    "gpuNum": 4,
    "hideHardwareSpecs": false,
    "memoryGiB": 192,
    "name": "ml.g4dn.12xlarge",
    "vcpuNum": 48
   },
   {
    "_defaultOrder": 34,
    "_isFastLaunch": false,
    "category": "Accelerated computing",
    "gpuNum": 1,
    "hideHardwareSpecs": false,
    "memoryGiB": 256,
    "name": "ml.g4dn.16xlarge",
    "vcpuNum": 64
   },
   {
    "_defaultOrder": 35,
    "_isFastLaunch": false,
    "category": "Accelerated computing",
    "gpuNum": 1,
    "hideHardwareSpecs": false,
    "memoryGiB": 61,
    "name": "ml.p3.2xlarge",
    "vcpuNum": 8
   },
   {
    "_defaultOrder": 36,
    "_isFastLaunch": false,
    "category": "Accelerated computing",
    "gpuNum": 4,
    "hideHardwareSpecs": false,
    "memoryGiB": 244,
    "name": "ml.p3.8xlarge",
    "vcpuNum": 32
   },
   {
    "_defaultOrder": 37,
    "_isFastLaunch": false,
    "category": "Accelerated computing",
    "gpuNum": 8,
    "hideHardwareSpecs": false,
    "memoryGiB": 488,
    "name": "ml.p3.16xlarge",
    "vcpuNum": 64
   },
   {
    "_defaultOrder": 38,
    "_isFastLaunch": false,
    "category": "Accelerated computing",
    "gpuNum": 8,
    "hideHardwareSpecs": false,
    "memoryGiB": 768,
    "name": "ml.p3dn.24xlarge",
    "vcpuNum": 96
   },
   {
    "_defaultOrder": 39,
    "_isFastLaunch": false,
    "category": "Memory Optimized",
    "gpuNum": 0,
    "hideHardwareSpecs": false,
    "memoryGiB": 16,
    "name": "ml.r5.large",
    "vcpuNum": 2
   },
   {
    "_defaultOrder": 40,
    "_isFastLaunch": false,
    "category": "Memory Optimized",
    "gpuNum": 0,
    "hideHardwareSpecs": false,
    "memoryGiB": 32,
    "name": "ml.r5.xlarge",
    "vcpuNum": 4
   },
   {
    "_defaultOrder": 41,
    "_isFastLaunch": false,
    "category": "Memory Optimized",
    "gpuNum": 0,
    "hideHardwareSpecs": false,
    "memoryGiB": 64,
    "name": "ml.r5.2xlarge",
    "vcpuNum": 8
   },
   {
    "_defaultOrder": 42,
    "_isFastLaunch": false,
    "category": "Memory Optimized",
    "gpuNum": 0,
    "hideHardwareSpecs": false,
    "memoryGiB": 128,
    "name": "ml.r5.4xlarge",
    "vcpuNum": 16
   },
   {
    "_defaultOrder": 43,
    "_isFastLaunch": false,
    "category": "Memory Optimized",
    "gpuNum": 0,
    "hideHardwareSpecs": false,
    "memoryGiB": 256,
    "name": "ml.r5.8xlarge",
    "vcpuNum": 32
   },
   {
    "_defaultOrder": 44,
    "_isFastLaunch": false,
    "category": "Memory Optimized",
    "gpuNum": 0,
    "hideHardwareSpecs": false,
    "memoryGiB": 384,
    "name": "ml.r5.12xlarge",
    "vcpuNum": 48
   },
   {
    "_defaultOrder": 45,
    "_isFastLaunch": false,
    "category": "Memory Optimized",
    "gpuNum": 0,
    "hideHardwareSpecs": false,
    "memoryGiB": 512,
    "name": "ml.r5.16xlarge",
    "vcpuNum": 64
   },
   {
    "_defaultOrder": 46,
    "_isFastLaunch": false,
    "category": "Memory Optimized",
    "gpuNum": 0,
    "hideHardwareSpecs": false,
    "memoryGiB": 768,
    "name": "ml.r5.24xlarge",
    "vcpuNum": 96
   },
   {
    "_defaultOrder": 47,
    "_isFastLaunch": false,
    "category": "Accelerated computing",
    "gpuNum": 1,
    "hideHardwareSpecs": false,
    "memoryGiB": 16,
    "name": "ml.g5.xlarge",
    "vcpuNum": 4
   },
   {
    "_defaultOrder": 48,
    "_isFastLaunch": false,
    "category": "Accelerated computing",
    "gpuNum": 1,
    "hideHardwareSpecs": false,
    "memoryGiB": 32,
    "name": "ml.g5.2xlarge",
    "vcpuNum": 8
   },
   {
    "_defaultOrder": 49,
    "_isFastLaunch": false,
    "category": "Accelerated computing",
    "gpuNum": 1,
    "hideHardwareSpecs": false,
    "memoryGiB": 64,
    "name": "ml.g5.4xlarge",
    "vcpuNum": 16
   },
   {
    "_defaultOrder": 50,
    "_isFastLaunch": false,
    "category": "Accelerated computing",
    "gpuNum": 1,
    "hideHardwareSpecs": false,
    "memoryGiB": 128,
    "name": "ml.g5.8xlarge",
    "vcpuNum": 32
   },
   {
    "_defaultOrder": 51,
    "_isFastLaunch": false,
    "category": "Accelerated computing",
    "gpuNum": 1,
    "hideHardwareSpecs": false,
    "memoryGiB": 256,
    "name": "ml.g5.16xlarge",
    "vcpuNum": 64
   },
   {
    "_defaultOrder": 52,
    "_isFastLaunch": false,
    "category": "Accelerated computing",
    "gpuNum": 4,
    "hideHardwareSpecs": false,
    "memoryGiB": 192,
    "name": "ml.g5.12xlarge",
    "vcpuNum": 48
   },
   {
    "_defaultOrder": 53,
    "_isFastLaunch": false,
    "category": "Accelerated computing",
    "gpuNum": 4,
    "hideHardwareSpecs": false,
    "memoryGiB": 384,
    "name": "ml.g5.24xlarge",
    "vcpuNum": 96
   },
   {
    "_defaultOrder": 54,
    "_isFastLaunch": false,
    "category": "Accelerated computing",
    "gpuNum": 8,
    "hideHardwareSpecs": false,
    "memoryGiB": 768,
    "name": "ml.g5.48xlarge",
    "vcpuNum": 192
   },
   {
    "_defaultOrder": 55,
    "_isFastLaunch": false,
    "category": "Accelerated computing",
    "gpuNum": 8,
    "hideHardwareSpecs": false,
    "memoryGiB": 1152,
    "name": "ml.p4d.24xlarge",
    "vcpuNum": 96
   },
   {
    "_defaultOrder": 56,
    "_isFastLaunch": false,
    "category": "Accelerated computing",
    "gpuNum": 8,
    "hideHardwareSpecs": false,
    "memoryGiB": 1152,
    "name": "ml.p4de.24xlarge",
    "vcpuNum": 96
   }
  ],
  "instance_type": "ml.t3.medium",
  "kernelspec": {
   "display_name": "Python 3 (Data Science)",
   "language": "python",
   "name": "python3__SAGEMAKER_INTERNAL__arn:aws:sagemaker:ap-southeast-1:492261229750:image/datascience-1.0"
  },
  "language_info": {
   "codemirror_mode": {
    "name": "ipython",
    "version": 3
   },
   "file_extension": ".py",
   "mimetype": "text/x-python",
   "name": "python",
   "nbconvert_exporter": "python",
   "pygments_lexer": "ipython3",
   "version": "3.7.10"
  }
 },
 "nbformat": 4,
 "nbformat_minor": 5
}
